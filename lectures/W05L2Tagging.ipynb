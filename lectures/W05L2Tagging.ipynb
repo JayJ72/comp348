{
 "cells": [
  {
   "cell_type": "markdown",
   "metadata": {},
   "source": [
    "# NLTK Built-in PoS Tagger"
   ]
  },
  {
   "cell_type": "code",
   "execution_count": 1,
   "metadata": {
    "collapsed": false
   },
   "outputs": [
    {
     "data": {
      "text/plain": [
       "['And', 'now', 'for', 'something', 'completely', 'different']"
      ]
     },
     "execution_count": 1,
     "metadata": {},
     "output_type": "execute_result"
    }
   ],
   "source": [
    "import nltk\n",
    "text=nltk.wordpunct_tokenize(\"And now for something completely different\")\n",
    "text"
   ]
  },
  {
   "cell_type": "code",
   "execution_count": 2,
   "metadata": {
    "collapsed": false
   },
   "outputs": [
    {
     "data": {
      "text/plain": [
       "[('And', 'CC'),\n",
       " ('now', 'RB'),\n",
       " ('for', 'IN'),\n",
       " ('something', 'NN'),\n",
       " ('completely', 'RB'),\n",
       " ('different', 'JJ')]"
      ]
     },
     "execution_count": 2,
     "metadata": {},
     "output_type": "execute_result"
    }
   ],
   "source": [
    "nltk.pos_tag(text)"
   ]
  },
  {
   "cell_type": "code",
   "execution_count": 3,
   "metadata": {
    "collapsed": false
   },
   "outputs": [
    {
     "data": {
      "text/plain": [
       "['They',\n",
       " 'refuse',\n",
       " 'to',\n",
       " 'permit',\n",
       " 'us',\n",
       " 'to',\n",
       " 'obtain',\n",
       " 'the',\n",
       " 'refuse',\n",
       " 'permit']"
      ]
     },
     "execution_count": 3,
     "metadata": {},
     "output_type": "execute_result"
    }
   ],
   "source": [
    "text=nltk.word_tokenize(\"\"\"They refuse to permit us to obtain the \n",
    "refuse permit\"\"\")\n",
    "text"
   ]
  },
  {
   "cell_type": "code",
   "execution_count": 4,
   "metadata": {
    "collapsed": false
   },
   "outputs": [
    {
     "data": {
      "text/plain": [
       "[('They', 'PRP'),\n",
       " ('refuse', 'VBP'),\n",
       " ('to', 'TO'),\n",
       " ('permit', 'VB'),\n",
       " ('us', 'PRP'),\n",
       " ('to', 'TO'),\n",
       " ('obtain', 'VB'),\n",
       " ('the', 'DT'),\n",
       " ('refuse', 'NN'),\n",
       " ('permit', 'NN')]"
      ]
     },
     "execution_count": 4,
     "metadata": {},
     "output_type": "execute_result"
    }
   ],
   "source": [
    "nltk.pos_tag(text)"
   ]
  },
  {
   "cell_type": "markdown",
   "metadata": {},
   "source": [
    "# The Penn Treebank"
   ]
  },
  {
   "cell_type": "code",
   "execution_count": 5,
   "metadata": {
    "collapsed": true
   },
   "outputs": [],
   "source": [
    "from nltk.corpus import treebank"
   ]
  },
  {
   "cell_type": "code",
   "execution_count": 6,
   "metadata": {
    "collapsed": false
   },
   "outputs": [
    {
     "data": {
      "text/plain": [
       "['Pierre',\n",
       " 'Vinken',\n",
       " ',',\n",
       " '61',\n",
       " 'years',\n",
       " 'old',\n",
       " ',',\n",
       " 'will',\n",
       " 'join',\n",
       " 'the',\n",
       " 'board',\n",
       " 'as',\n",
       " 'a',\n",
       " 'nonexecutive',\n",
       " 'director',\n",
       " 'Nov.',\n",
       " '29',\n",
       " '.',\n",
       " 'Mr.',\n",
       " 'Vinken']"
      ]
     },
     "execution_count": 6,
     "metadata": {},
     "output_type": "execute_result"
    }
   ],
   "source": [
    "w = treebank.words()\n",
    "w[:20]"
   ]
  },
  {
   "cell_type": "code",
   "execution_count": 7,
   "metadata": {
    "collapsed": false
   },
   "outputs": [
    {
     "data": {
      "text/plain": [
       "'\\n( (S \\n    (NP-SBJ \\n      (NP (NNP Pierre) (NNP Vinken) )\\n      (, ,) \\n      (ADJP \\n        (NP (CD '"
      ]
     },
     "execution_count": 7,
     "metadata": {},
     "output_type": "execute_result"
    }
   ],
   "source": [
    "r = treebank.raw()\n",
    "r[:100]"
   ]
  },
  {
   "cell_type": "code",
   "execution_count": 8,
   "metadata": {
    "collapsed": false
   },
   "outputs": [
    {
     "data": {
      "text/plain": [
       "[('Pierre', 'NNP'),\n",
       " ('Vinken', 'NNP'),\n",
       " (',', ','),\n",
       " ('61', 'CD'),\n",
       " ('years', 'NNS'),\n",
       " ('old', 'JJ'),\n",
       " (',', ','),\n",
       " ('will', 'MD'),\n",
       " ('join', 'VB'),\n",
       " ('the', 'DT'),\n",
       " ('board', 'NN'),\n",
       " ('as', 'IN'),\n",
       " ('a', 'DT'),\n",
       " ('nonexecutive', 'JJ'),\n",
       " ('director', 'NN'),\n",
       " ('Nov.', 'NNP'),\n",
       " ('29', 'CD'),\n",
       " ('.', '.'),\n",
       " ('Mr.', 'NNP'),\n",
       " ('Vinken', 'NNP')]"
      ]
     },
     "execution_count": 8,
     "metadata": {},
     "output_type": "execute_result"
    }
   ],
   "source": [
    "tw = treebank.tagged_words()\n",
    "tw[:20]"
   ]
  },
  {
   "cell_type": "code",
   "execution_count": 9,
   "metadata": {
    "collapsed": false
   },
   "outputs": [
    {
     "data": {
      "text/plain": [
       "[[('Pierre', 'NNP'),\n",
       "  ('Vinken', 'NNP'),\n",
       "  (',', ','),\n",
       "  ('61', 'CD'),\n",
       "  ('years', 'NNS'),\n",
       "  ('old', 'JJ'),\n",
       "  (',', ','),\n",
       "  ('will', 'MD'),\n",
       "  ('join', 'VB'),\n",
       "  ('the', 'DT'),\n",
       "  ('board', 'NN'),\n",
       "  ('as', 'IN'),\n",
       "  ('a', 'DT'),\n",
       "  ('nonexecutive', 'JJ'),\n",
       "  ('director', 'NN'),\n",
       "  ('Nov.', 'NNP'),\n",
       "  ('29', 'CD'),\n",
       "  ('.', '.')],\n",
       " [('Mr.', 'NNP'),\n",
       "  ('Vinken', 'NNP'),\n",
       "  ('is', 'VBZ'),\n",
       "  ('chairman', 'NN'),\n",
       "  ('of', 'IN'),\n",
       "  ('Elsevier', 'NNP'),\n",
       "  ('N.V.', 'NNP'),\n",
       "  (',', ','),\n",
       "  ('the', 'DT'),\n",
       "  ('Dutch', 'NNP'),\n",
       "  ('publishing', 'VBG'),\n",
       "  ('group', 'NN'),\n",
       "  ('.', '.')]]"
      ]
     },
     "execution_count": 9,
     "metadata": {},
     "output_type": "execute_result"
    }
   ],
   "source": [
    "ts = treebank.tagged_sents()\n",
    "ts[:2]"
   ]
  },
  {
   "cell_type": "markdown",
   "metadata": {},
   "source": [
    "# The Brown Corpus"
   ]
  },
  {
   "cell_type": "code",
   "execution_count": 10,
   "metadata": {
    "collapsed": false
   },
   "outputs": [
    {
     "data": {
      "text/plain": [
       "'\\n\\n\\tThe/at Fulton/np-tl County/nn-tl Grand/jj-tl Jury/nn-tl said/vbd Friday/nr an/at investigation/nn'"
      ]
     },
     "execution_count": 10,
     "metadata": {},
     "output_type": "execute_result"
    }
   ],
   "source": [
    "from nltk.corpus import brown\n",
    "brown.raw()[0:100]"
   ]
  },
  {
   "cell_type": "code",
   "execution_count": 11,
   "metadata": {
    "collapsed": false
   },
   "outputs": [
    {
     "data": {
      "text/plain": [
       "['adventure',\n",
       " 'belles_lettres',\n",
       " 'editorial',\n",
       " 'fiction',\n",
       " 'government',\n",
       " 'hobbies',\n",
       " 'humor',\n",
       " 'learned',\n",
       " 'lore',\n",
       " 'mystery',\n",
       " 'news',\n",
       " 'religion',\n",
       " 'reviews',\n",
       " 'romance',\n",
       " 'science_fiction']"
      ]
     },
     "execution_count": 11,
     "metadata": {},
     "output_type": "execute_result"
    }
   ],
   "source": [
    "brown.categories()"
   ]
  },
  {
   "cell_type": "code",
   "execution_count": 12,
   "metadata": {
    "collapsed": false
   },
   "outputs": [
    {
     "data": {
      "text/plain": [
       "['The', 'Fulton', 'County', 'Grand', 'Jury', 'said', ...]"
      ]
     },
     "execution_count": 12,
     "metadata": {},
     "output_type": "execute_result"
    }
   ],
   "source": [
    "brown.words(categories='news')"
   ]
  },
  {
   "cell_type": "code",
   "execution_count": 13,
   "metadata": {
    "collapsed": false
   },
   "outputs": [
    {
     "data": {
      "text/plain": [
       "['Does', 'our', 'society', 'have', 'a', 'runaway', ',', ...]"
      ]
     },
     "execution_count": 13,
     "metadata": {},
     "output_type": "execute_result"
    }
   ],
   "source": [
    "brown.words(fileids=['cg22'])"
   ]
  },
  {
   "cell_type": "code",
   "execution_count": 14,
   "metadata": {
    "collapsed": false
   },
   "outputs": [
    {
     "data": {
      "text/plain": [
       "[['The', 'Fulton', 'County', 'Grand', 'Jury', 'said', 'Friday', 'an', 'investigation', 'of', \"Atlanta's\", 'recent', 'primary', 'election', 'produced', '``', 'no', 'evidence', \"''\", 'that', 'any', 'irregularities', 'took', 'place', '.'], ['The', 'jury', 'further', 'said', 'in', 'term-end', 'presentments', 'that', 'the', 'City', 'Executive', 'Committee', ',', 'which', 'had', 'over-all', 'charge', 'of', 'the', 'election', ',', '``', 'deserves', 'the', 'praise', 'and', 'thanks', 'of', 'the', 'City', 'of', 'Atlanta', \"''\", 'for', 'the', 'manner', 'in', 'which', 'the', 'election', 'was', 'conducted', '.'], ...]"
      ]
     },
     "execution_count": 14,
     "metadata": {},
     "output_type": "execute_result"
    }
   ],
   "source": [
    "brown.sents(categories=['news','editorial','reviews'])"
   ]
  },
  {
   "cell_type": "code",
   "execution_count": 15,
   "metadata": {
    "collapsed": false
   },
   "outputs": [
    {
     "data": {
      "text/plain": [
       "[('The', 'AT'), ('Fulton', 'NP-TL'), ...]"
      ]
     },
     "execution_count": 15,
     "metadata": {},
     "output_type": "execute_result"
    }
   ],
   "source": [
    "brown.tagged_words()"
   ]
  },
  {
   "cell_type": "code",
   "execution_count": 16,
   "metadata": {
    "collapsed": false
   },
   "outputs": [
    {
     "data": {
      "text/plain": [
       "[[('The', 'AT'), ('Fulton', 'NP-TL'), ('County', 'NN-TL'), ('Grand', 'JJ-TL'), ('Jury', 'NN-TL'), ('said', 'VBD'), ('Friday', 'NR'), ('an', 'AT'), ('investigation', 'NN'), ('of', 'IN'), (\"Atlanta's\", 'NP$'), ('recent', 'JJ'), ('primary', 'NN'), ('election', 'NN'), ('produced', 'VBD'), ('``', '``'), ('no', 'AT'), ('evidence', 'NN'), (\"''\", \"''\"), ('that', 'CS'), ('any', 'DTI'), ('irregularities', 'NNS'), ('took', 'VBD'), ('place', 'NN'), ('.', '.')], [('The', 'AT'), ('jury', 'NN'), ('further', 'RBR'), ('said', 'VBD'), ('in', 'IN'), ('term-end', 'NN'), ('presentments', 'NNS'), ('that', 'CS'), ('the', 'AT'), ('City', 'NN-TL'), ('Executive', 'JJ-TL'), ('Committee', 'NN-TL'), (',', ','), ('which', 'WDT'), ('had', 'HVD'), ('over-all', 'JJ'), ('charge', 'NN'), ('of', 'IN'), ('the', 'AT'), ('election', 'NN'), (',', ','), ('``', '``'), ('deserves', 'VBZ'), ('the', 'AT'), ('praise', 'NN'), ('and', 'CC'), ('thanks', 'NNS'), ('of', 'IN'), ('the', 'AT'), ('City', 'NN-TL'), ('of', 'IN-TL'), ('Atlanta', 'NP-TL'), (\"''\", \"''\"), ('for', 'IN'), ('the', 'AT'), ('manner', 'NN'), ('in', 'IN'), ('which', 'WDT'), ('the', 'AT'), ('election', 'NN'), ('was', 'BEDZ'), ('conducted', 'VBN'), ('.', '.')], ...]"
      ]
     },
     "execution_count": 16,
     "metadata": {},
     "output_type": "execute_result"
    }
   ],
   "source": [
    "brown.tagged_sents()"
   ]
  },
  {
   "cell_type": "markdown",
   "metadata": {},
   "source": [
    "### Most frequent part of speech"
   ]
  },
  {
   "cell_type": "code",
   "execution_count": 17,
   "metadata": {
    "collapsed": false
   },
   "outputs": [
    {
     "data": {
      "text/plain": [
       "[('NN', 152470),\n",
       " ('IN', 120557),\n",
       " ('AT', 97959),\n",
       " ('JJ', 64028),\n",
       " ('.', 60638),\n",
       " (',', 58156),\n",
       " ('NNS', 55110),\n",
       " ('CC', 37718),\n",
       " ('RB', 36464),\n",
       " ('NP', 34476)]"
      ]
     },
     "execution_count": 17,
     "metadata": {},
     "output_type": "execute_result"
    }
   ],
   "source": [
    "import collections\n",
    "c = collections.Counter(t for w,t in brown.tagged_words())\n",
    "c.most_common(10)"
   ]
  },
  {
   "cell_type": "markdown",
   "metadata": {},
   "source": [
    "### Most common verbs in news text\n",
    "\n",
    "You can find a list of parts of speech in the Brown corpus in [Wikipedia](https://en.wikipedia.org/wiki/Brown_Corpus#Part-of-speech_tags_used). We need to search for tags that begin with `VB`."
   ]
  },
  {
   "cell_type": "code",
   "execution_count": 18,
   "metadata": {
    "collapsed": false
   },
   "outputs": [
    {
     "data": {
      "text/plain": [
       "[('said', 402),\n",
       " ('made', 107),\n",
       " ('get', 66),\n",
       " ('United', 58),\n",
       " ('told', 53),\n",
       " ('take', 48),\n",
       " ('took', 47),\n",
       " ('set', 46),\n",
       " ('got', 45),\n",
       " ('make', 43)]"
      ]
     },
     "execution_count": 18,
     "metadata": {},
     "output_type": "execute_result"
    }
   ],
   "source": [
    "c = collections.Counter(w for w,t in brown.tagged_words(categories='news') \n",
    "                        if t[:2]=='VB')\n",
    "c.most_common(10)"
   ]
  },
  {
   "cell_type": "markdown",
   "metadata": {},
   "source": [
    "### Most frequent part of speech before a noun"
   ]
  },
  {
   "cell_type": "code",
   "execution_count": 19,
   "metadata": {
    "collapsed": false
   },
   "outputs": [
    {
     "data": {
      "text/plain": [
       "[('AT', 63829),\n",
       " ('JJ', 41834),\n",
       " ('IN', 32457),\n",
       " ('NN', 18641),\n",
       " ('PP$', 12417),\n",
       " ('NP', 10295),\n",
       " ('CC', 8848),\n",
       " (',', 7983),\n",
       " ('.', 7315),\n",
       " ('CD', 5473)]"
      ]
     },
     "execution_count": 19,
     "metadata": {},
     "output_type": "execute_result"
    }
   ],
   "source": [
    "bigrams = nltk.bigrams(brown.tagged_words())\n",
    "c = collections.Counter(t for ((w,t),(w2,t2)) in bigrams if t2[0]=='N')\n",
    "c.most_common(10)"
   ]
  },
  {
   "cell_type": "markdown",
   "metadata": {},
   "source": [
    "`AT` is the PoS tag for articles (det, a, no)"
   ]
  },
  {
   "cell_type": "markdown",
   "metadata": {},
   "source": [
    "# Conditional Frequency Distributions"
   ]
  },
  {
   "cell_type": "markdown",
   "metadata": {},
   "source": [
    "### Counting words by genre"
   ]
  },
  {
   "cell_type": "code",
   "execution_count": 20,
   "metadata": {
    "collapsed": true
   },
   "outputs": [],
   "source": [
    "cfd = nltk.ConditionalFreqDist((g,w) \n",
    "                             for g in brown.categories()\n",
    "                             for w in brown.words(categories=g))"
   ]
  },
  {
   "cell_type": "code",
   "execution_count": 21,
   "metadata": {
    "collapsed": false
   },
   "outputs": [
    {
     "data": {
      "text/plain": [
       "['mystery',\n",
       " 'romance',\n",
       " 'religion',\n",
       " 'editorial',\n",
       " 'science_fiction',\n",
       " 'learned',\n",
       " 'belles_lettres',\n",
       " 'humor',\n",
       " 'adventure',\n",
       " 'lore',\n",
       " 'government',\n",
       " 'news',\n",
       " 'fiction',\n",
       " 'reviews',\n",
       " 'hobbies']"
      ]
     },
     "execution_count": 21,
     "metadata": {},
     "output_type": "execute_result"
    }
   ],
   "source": [
    "cfd.conditions()"
   ]
  },
  {
   "cell_type": "code",
   "execution_count": 22,
   "metadata": {
    "collapsed": false
   },
   "outputs": [
    {
     "data": {
      "text/plain": [
       "FreqDist({'Bar': 2,\n",
       "          'relieved': 1,\n",
       "          \"wife's\": 1,\n",
       "          'Lenny': 1,\n",
       "          'Kerrville': 1,\n",
       "          'Capitalism': 1,\n",
       "          'Alva': 1,\n",
       "          'Kas.': 1,\n",
       "          'Singles': 1,\n",
       "          'Neil': 2,\n",
       "          'appealed': 4,\n",
       "          'year-round': 1,\n",
       "          'items': 4,\n",
       "          'Cadillacs': 1,\n",
       "          '$754': 1,\n",
       "          'settled': 4,\n",
       "          'shouting': 1,\n",
       "          'Moscone': 1,\n",
       "          'Brandeis': 1,\n",
       "          'Larson': 5,\n",
       "          'gray-haired': 1,\n",
       "          'commuted': 1,\n",
       "          'resources': 6,\n",
       "          'Workshop': 1,\n",
       "          'biggest': 9,\n",
       "          'Denton': 4,\n",
       "          'Atlee': 1,\n",
       "          'Lady': 5,\n",
       "          'Buckley': 6,\n",
       "          'Counties': 1,\n",
       "          'reaching': 3,\n",
       "          'County': 35,\n",
       "          'eat': 2,\n",
       "          'cabinet': 4,\n",
       "          'birth': 5,\n",
       "          'uptrend': 1,\n",
       "          'decertify': 1,\n",
       "          'allowing': 5,\n",
       "          'sport': 2,\n",
       "          'Dean': 6,\n",
       "          'twice': 6,\n",
       "          'retracted': 1,\n",
       "          'Bales': 1,\n",
       "          'Ronald': 2,\n",
       "          'Carr': 1,\n",
       "          'buying': 5,\n",
       "          'encouragement': 5,\n",
       "          'members': 69,\n",
       "          'name': 15,\n",
       "          'Kittredge': 1,\n",
       "          'selections': 1,\n",
       "          '1912': 1,\n",
       "          'bulwark': 1,\n",
       "          '6.5': 1,\n",
       "          'Lou': 3,\n",
       "          \"Idols'\": 1,\n",
       "          'peasants': 1,\n",
       "          'reliance': 1,\n",
       "          'Farrell': 2,\n",
       "          'respectable': 1,\n",
       "          'partially': 1,\n",
       "          'uniforms': 1,\n",
       "          'precipitated': 1,\n",
       "          'Russia': 11,\n",
       "          'endure': 2,\n",
       "          'unsure': 1,\n",
       "          'Patty': 1,\n",
       "          'advisement': 2,\n",
       "          'ended': 10,\n",
       "          'Scotland': 2,\n",
       "          '357': 1,\n",
       "          'secessionist': 1,\n",
       "          'maybe': 1,\n",
       "          '380-foot': 1,\n",
       "          'flashy': 1,\n",
       "          'Marc': 1,\n",
       "          'rallies': 1,\n",
       "          '10-team': 1,\n",
       "          'Leo': 4,\n",
       "          'represent': 1,\n",
       "          'boosts': 1,\n",
       "          'helps': 2,\n",
       "          'Treaty': 2,\n",
       "          'crushing': 1,\n",
       "          'Claude': 1,\n",
       "          'reforms': 4,\n",
       "          'jail': 6,\n",
       "          'exact': 1,\n",
       "          'nice': 1,\n",
       "          'commentator': 1,\n",
       "          'Dade': 1,\n",
       "          'Abe': 1,\n",
       "          'Narragansett': 2,\n",
       "          'horse': 2,\n",
       "          'Athlete': 1,\n",
       "          'NATO': 7,\n",
       "          'Science': 3,\n",
       "          '99': 1,\n",
       "          'chapel': 2,\n",
       "          'negotiations': 11,\n",
       "          'For': 26,\n",
       "          'Canadian': 1,\n",
       "          'bringing': 2,\n",
       "          'tactic': 2,\n",
       "          'embassy': 2,\n",
       "          'inflow': 1,\n",
       "          'radical': 1,\n",
       "          'calico': 1,\n",
       "          'slump': 3,\n",
       "          'Falls': 3,\n",
       "          'hostess': 2,\n",
       "          'simplest': 1,\n",
       "          'Laughlin': 2,\n",
       "          '350': 1,\n",
       "          'Expressway': 3,\n",
       "          'handled': 4,\n",
       "          'formative': 1,\n",
       "          'plunder': 1,\n",
       "          'children': 45,\n",
       "          'stretch': 2,\n",
       "          'Moments': 1,\n",
       "          '900': 1,\n",
       "          'ordinary': 7,\n",
       "          'Muskegon': 1,\n",
       "          'pedestrians': 2,\n",
       "          'Blaber': 1,\n",
       "          'Motor': 1,\n",
       "          'raged': 1,\n",
       "          'Show': 2,\n",
       "          'manual': 1,\n",
       "          'neutral': 5,\n",
       "          '62-year-old': 1,\n",
       "          'head': 24,\n",
       "          'depression': 4,\n",
       "          'disapprove': 1,\n",
       "          'How': 5,\n",
       "          'forthcoming': 2,\n",
       "          'overcome': 5,\n",
       "          'acts': 7,\n",
       "          'persistent': 1,\n",
       "          'Principals': 1,\n",
       "          'dismal': 2,\n",
       "          'grant-in-aid': 2,\n",
       "          'dying': 1,\n",
       "          'spectacular': 4,\n",
       "          'published': 1,\n",
       "          '2705': 1,\n",
       "          'McNaughton': 1,\n",
       "          \"Caldwell's\": 1,\n",
       "          'Tunisian': 3,\n",
       "          'calendar': 3,\n",
       "          'piece': 3,\n",
       "          'boogie': 1,\n",
       "          'mess': 1,\n",
       "          'Kan.': 2,\n",
       "          'strikes': 2,\n",
       "          'specialization': 1,\n",
       "          \"Leavitt's\": 1,\n",
       "          'Tee': 1,\n",
       "          'bonds': 29,\n",
       "          'clear': 12,\n",
       "          'guardians': 2,\n",
       "          'seated': 5,\n",
       "          'violate': 2,\n",
       "          'Kalonji': 1,\n",
       "          'Elmer': 1,\n",
       "          'irate': 1,\n",
       "          'Nevada': 1,\n",
       "          'Lovelace': 1,\n",
       "          'columnist': 1,\n",
       "          'numbered': 1,\n",
       "          'Odell': 1,\n",
       "          'invites': 1,\n",
       "          'amount': 18,\n",
       "          '68': 5,\n",
       "          'tip': 1,\n",
       "          'useful': 1,\n",
       "          'Kans.': 1,\n",
       "          'writes': 1,\n",
       "          'heart': 5,\n",
       "          'Snellville': 2,\n",
       "          'Attorneys': 2,\n",
       "          'sets': 1,\n",
       "          'Jorge': 1,\n",
       "          'rock': 3,\n",
       "          'fumble': 1,\n",
       "          'co-ordination': 1,\n",
       "          'jersey': 1,\n",
       "          'expensive': 1,\n",
       "          'olive-green': 1,\n",
       "          'submarine-ball': 1,\n",
       "          'pack': 2,\n",
       "          'Citizens': 5,\n",
       "          'Campagnoli': 1,\n",
       "          'feted': 2,\n",
       "          'Foliage': 1,\n",
       "          'slums': 1,\n",
       "          'everything': 4,\n",
       "          'Dillon': 3,\n",
       "          'Asian': 3,\n",
       "          'nominated': 2,\n",
       "          'deadlock': 7,\n",
       "          'Wyman': 1,\n",
       "          'Study': 1,\n",
       "          '1976': 1,\n",
       "          'handsome': 3,\n",
       "          'free': 11,\n",
       "          'cross': 1,\n",
       "          'ten-concert': 1,\n",
       "          'regular': 4,\n",
       "          'others': 15,\n",
       "          'fast-spreading': 1,\n",
       "          'pirates': 2,\n",
       "          'harmless': 1,\n",
       "          'my': 34,\n",
       "          'weaken': 1,\n",
       "          'President-elect': 5,\n",
       "          '24th': 3,\n",
       "          'representations': 1,\n",
       "          'short': 15,\n",
       "          'agencies': 8,\n",
       "          'deserves': 3,\n",
       "          'probate': 1,\n",
       "          'Negro': 8,\n",
       "          'Cancer': 3,\n",
       "          'Register': 2,\n",
       "          'homerun': 1,\n",
       "          'snake': 1,\n",
       "          'award': 12,\n",
       "          'vehicular': 1,\n",
       "          \"wasn't\": 3,\n",
       "          'controlled': 3,\n",
       "          'criticisms': 2,\n",
       "          'elder': 2,\n",
       "          'antidote': 1,\n",
       "          'entomologist': 1,\n",
       "          'Lummus': 1,\n",
       "          'ersatz': 1,\n",
       "          'resent': 2,\n",
       "          'Texan': 1,\n",
       "          'Piersee': 1,\n",
       "          'chaos': 2,\n",
       "          'referendum': 1,\n",
       "          'loving': 1,\n",
       "          'cameras': 1,\n",
       "          'locate': 1,\n",
       "          'reward': 2,\n",
       "          'closing': 2,\n",
       "          'Mac': 1,\n",
       "          'senator': 3,\n",
       "          'officiated': 3,\n",
       "          'ever-changing': 1,\n",
       "          'stepped-up': 1,\n",
       "          'box': 2,\n",
       "          'title': 3,\n",
       "          'Noting': 2,\n",
       "          'animal': 2,\n",
       "          'mantel': 1,\n",
       "          'pier': 1,\n",
       "          'Twelve': 1,\n",
       "          '102': 1,\n",
       "          \"Karns'\": 1,\n",
       "          'heed': 1,\n",
       "          'Abra': 1,\n",
       "          'appreciated': 2,\n",
       "          'earning': 3,\n",
       "          'recessed': 1,\n",
       "          'Stamford': 2,\n",
       "          'ardor': 1,\n",
       "          'geographical': 1,\n",
       "          'taste': 5,\n",
       "          'tax-free': 2,\n",
       "          'Guy': 3,\n",
       "          '75-minute': 1,\n",
       "          \"Owl's\": 1,\n",
       "          'underbelly': 1,\n",
       "          'preach': 1,\n",
       "          'delivered': 8,\n",
       "          'voted': 9,\n",
       "          'recipe': 1,\n",
       "          'affected': 1,\n",
       "          'March': 36,\n",
       "          'acquire': 2,\n",
       "          'treated': 10,\n",
       "          'run-ups': 1,\n",
       "          'Quaker': 1,\n",
       "          'proof': 2,\n",
       "          'speculating': 2,\n",
       "          'Charge': 1,\n",
       "          'Khrush': 1,\n",
       "          \"Harvard's\": 1,\n",
       "          'heads': 3,\n",
       "          'Multnomah': 6,\n",
       "          'trophy': 1,\n",
       "          'predictably': 1,\n",
       "          '87': 1,\n",
       "          'Maryland': 5,\n",
       "          '1': 47,\n",
       "          'formerly': 10,\n",
       "          'Farmers': 3,\n",
       "          'Insuring': 1,\n",
       "          'bankrupt': 2,\n",
       "          'Milt': 2,\n",
       "          'Play': 1,\n",
       "          'appeals': 6,\n",
       "          'awarded': 4,\n",
       "          'violating': 1,\n",
       "          'Station': 5,\n",
       "          \"Colmer's\": 1,\n",
       "          'white': 17,\n",
       "          'Chardon': 1,\n",
       "          'Campaigning': 1,\n",
       "          'misfortune': 2,\n",
       "          'submarine': 6,\n",
       "          'checks': 3,\n",
       "          'thousands': 7,\n",
       "          'forward': 2,\n",
       "          'estimates': 3,\n",
       "          'dishes': 1,\n",
       "          'Scarsdale': 1,\n",
       "          'starts': 9,\n",
       "          'train': 4,\n",
       "          'arguments': 1,\n",
       "          'protect': 2,\n",
       "          'Herrington': 1,\n",
       "          'ways': 10,\n",
       "          'settlement': 3,\n",
       "          'breasts': 2,\n",
       "          '$57,500': 1,\n",
       "          'Harmony': 1,\n",
       "          'We': 30,\n",
       "          'unhappy': 1,\n",
       "          'Pittsburgh': 13,\n",
       "          'leaned': 1,\n",
       "          '59': 1,\n",
       "          'cordial': 1,\n",
       "          'Averell': 1,\n",
       "          'no-driving': 1,\n",
       "          'supervisor': 1,\n",
       "          'London': 7,\n",
       "          'retirements': 1,\n",
       "          'announce': 6,\n",
       "          'Stuart': 2,\n",
       "          'nonsense': 1,\n",
       "          'carriers': 1,\n",
       "          'reform': 3,\n",
       "          'downtown': 5,\n",
       "          \"Lanin's\": 1,\n",
       "          'personalities': 2,\n",
       "          'Havilland': 1,\n",
       "          'merchants': 1,\n",
       "          'Enos': 1,\n",
       "          'Dulles': 1,\n",
       "          'bean': 1,\n",
       "          'invoked': 1,\n",
       "          'conquer': 1,\n",
       "          'involve': 3,\n",
       "          'pepping': 1,\n",
       "          'principle': 4,\n",
       "          'sudden': 2,\n",
       "          'outfield': 2,\n",
       "          'Changes': 2,\n",
       "          'Fingered': 1,\n",
       "          'Denver': 11,\n",
       "          'era': 2,\n",
       "          'computers': 1,\n",
       "          'passing': 12,\n",
       "          'menaced': 1,\n",
       "          \"weren't\": 1,\n",
       "          'stepping': 1,\n",
       "          'three-round': 2,\n",
       "          'dismissal': 2,\n",
       "          'Commissioner': 7,\n",
       "          'Mustangs': 1,\n",
       "          'couple': 13,\n",
       "          'costs': 18,\n",
       "          'processing': 7,\n",
       "          'meditating': 1,\n",
       "          'showed': 5,\n",
       "          \"town's\": 4,\n",
       "          'dud': 1,\n",
       "          'afloat': 1,\n",
       "          'invests': 1,\n",
       "          'gas': 10,\n",
       "          'tasteful': 1,\n",
       "          'drops': 1,\n",
       "          'Skipjack': 4,\n",
       "          \"men's\": 3,\n",
       "          'chest': 2,\n",
       "          'screen': 3,\n",
       "          'Which': 1,\n",
       "          'range': 6,\n",
       "          'classmates': 1,\n",
       "          'tended': 2,\n",
       "          'amateur': 6,\n",
       "          'grip': 1,\n",
       "          'conducted': 8,\n",
       "          'slammed': 3,\n",
       "          'Federation': 3,\n",
       "          'redecoration': 2,\n",
       "          'Mary': 14,\n",
       "          'clean': 2,\n",
       "          '15-1': 1,\n",
       "          'Rights': 1,\n",
       "          'Wert': 2,\n",
       "          'posted': 3,\n",
       "          'arose': 3,\n",
       "          \"Friday's\": 2,\n",
       "          'kept': 16,\n",
       "          'contempt': 1,\n",
       "          'Breuer': 1,\n",
       "          'kinda': 1,\n",
       "          'buys': 3,\n",
       "          'loop': 2,\n",
       "          'full-fledged': 1,\n",
       "          'crackpots': 1,\n",
       "          'Johns': 1,\n",
       "          'arts': 3,\n",
       "          'snubbed': 1,\n",
       "          'normalcy': 1,\n",
       "          'dividend': 2,\n",
       "          'graduate': 10,\n",
       "          'gauntlet': 1,\n",
       "          '149': 1,\n",
       "          'youths': 4,\n",
       "          'Willett': 1,\n",
       "          '35': 6,\n",
       "          'hemisphere': 2,\n",
       "          'tractors': 3,\n",
       "          'Zubkovskaya': 1,\n",
       "          'players': 12,\n",
       "          'Roberts': 3,\n",
       "          'call': 14,\n",
       "          'varying': 1,\n",
       "          'courteous': 1,\n",
       "          'Scores': 1,\n",
       "          'US': 1,\n",
       "          '3rd': 1,\n",
       "          'R-Warren': 1,\n",
       "          'valuation': 2,\n",
       "          'shelters': 1,\n",
       "          'jolt': 1,\n",
       "          'hardship': 2,\n",
       "          'pieces': 7,\n",
       "          'Belleville': 1,\n",
       "          'allocate': 1,\n",
       "          '$200,000': 1,\n",
       "          'chemical': 1,\n",
       "          'End': 3,\n",
       "          'Meyers': 1,\n",
       "          'Puerto': 2,\n",
       "          'denting': 1,\n",
       "          'developed': 13,\n",
       "          'skidded': 2,\n",
       "          'Wish': 1,\n",
       "          'barrel': 1,\n",
       "          'including': 25,\n",
       "          'incidents': 1,\n",
       "          'evaluating': 1,\n",
       "          '85-piece': 1,\n",
       "          'Moss': 3,\n",
       "          'practical': 4,\n",
       "          'Congressional': 3,\n",
       "          'quieted': 1,\n",
       "          'External': 1,\n",
       "          'Aderholds': 1,\n",
       "          'welled': 1,\n",
       "          'slugs': 1,\n",
       "          'me': 29,\n",
       "          'climbed': 2,\n",
       "          'Broncs': 2,\n",
       "          'tribes': 4,\n",
       "          '$65': 2,\n",
       "          'speeding': 2,\n",
       "          'encounter': 4,\n",
       "          'coins': 2,\n",
       "          'Night': 1,\n",
       "          'legal': 5,\n",
       "          'going': 22,\n",
       "          'parochial': 5,\n",
       "          'Motorists': 1,\n",
       "          'Rip': 1,\n",
       "          'troubles': 6,\n",
       "          'Contributions': 1,\n",
       "          'driers': 3,\n",
       "          'televised': 2,\n",
       "          'Finan': 1,\n",
       "          'Grossman': 1,\n",
       "          'elementary': 3,\n",
       "          'entertain': 6,\n",
       "          \"today's\": 5,\n",
       "          'teams': 5,\n",
       "          'Raymont': 1,\n",
       "          'full-dress': 1,\n",
       "          'Oh-the-pain-of-it': 1,\n",
       "          'operations': 10,\n",
       "          'detente': 1,\n",
       "          'Patterson': 1,\n",
       "          \"Saturday's\": 2,\n",
       "          'exchanges': 2,\n",
       "          'pictures': 3,\n",
       "          'Cauffman': 1,\n",
       "          'Boys': 1,\n",
       "          'Track': 1,\n",
       "          'reader': 1,\n",
       "          'touches': 2,\n",
       "          'membership': 5,\n",
       "          '5%': 4,\n",
       "          'Allies': 3,\n",
       "          'moans': 1,\n",
       "          \"Speaker's\": 1,\n",
       "          'proximity': 2,\n",
       "          'receives': 1,\n",
       "          'Concerts': 1,\n",
       "          'shiny': 1,\n",
       "          'Range': 1,\n",
       "          'Appeals': 4,\n",
       "          \"children's\": 7,\n",
       "          'Voiture': 1,\n",
       "          'TNT': 1,\n",
       "          '208-pound': 1,\n",
       "          'thank': 1,\n",
       "          'transition': 3,\n",
       "          '1965': 1,\n",
       "          '3.98': 1,\n",
       "          'cry': 3,\n",
       "          'character': 2,\n",
       "          'ex-singer': 1,\n",
       "          'Oddly': 1,\n",
       "          'Miss.': 4,\n",
       "          'Practice': 1,\n",
       "          'employers': 4,\n",
       "          'parlor': 2,\n",
       "          'subdued': 1,\n",
       "          'Leatherman': 1,\n",
       "          'Reid': 1,\n",
       "          'Pilots': 1,\n",
       "          'Pacific': 3,\n",
       "          'league': 14,\n",
       "          'contracting': 1,\n",
       "          'Coral': 3,\n",
       "          'Lewis': 3,\n",
       "          'baseball': 23,\n",
       "          'Super': 1,\n",
       "          'wedding': 9,\n",
       "          \"Journal-Bulletin's\": 1,\n",
       "          '14th': 2,\n",
       "          \"Pal's\": 1,\n",
       "          'Women': 4,\n",
       "          'Milties': 1,\n",
       "          'manner': 7,\n",
       "          'Edgar': 1,\n",
       "          'preached': 2,\n",
       "          'twirler': 1,\n",
       "          'lifted': 1,\n",
       "          'borer': 1,\n",
       "          'Ohio': 14,\n",
       "          'testify': 1,\n",
       "          'Eleanor': 5,\n",
       "          'Bearden': 4,\n",
       "          'Pirates': 7,\n",
       "          'park': 3,\n",
       "          'sweater': 1,\n",
       "          'patrolman': 1,\n",
       "          '$29,000': 1,\n",
       "          'equipped': 1,\n",
       "          'controversial': 3,\n",
       "          'Elliott': 1,\n",
       "          'Television-Electronics': 1,\n",
       "          'blonde': 1,\n",
       "          'Grocery': 1,\n",
       "          '$3,675': 1,\n",
       "          'Auditorium': 3,\n",
       "          \"McConnell's\": 1,\n",
       "          'attractive': 2,\n",
       "          '$50,000': 1,\n",
       "          'Anna': 2,\n",
       "          'trains': 1,\n",
       "          'Question': 3,\n",
       "          '8,000': 1,\n",
       "          'wired': 1,\n",
       "          'candor': 1,\n",
       "          'taught': 1,\n",
       "          'entourage': 1,\n",
       "          'continuance': 2,\n",
       "          'by': 497,\n",
       "          'fashion': 9,\n",
       "          'Case': 3,\n",
       "          '3-to-3': 1,\n",
       "          'decent': 2,\n",
       "          'community': 21,\n",
       "          'Morse': 3,\n",
       "          'scholastic': 2,\n",
       "          \"Controller's\": 1,\n",
       "          'Phoenix': 8,\n",
       "          '27': 4,\n",
       "          'scarcely': 1,\n",
       "          'Wilmington': 1,\n",
       "          'population': 13,\n",
       "          'promises': 3,\n",
       "          'cocky': 1,\n",
       "          'hopeful': 2,\n",
       "          'Mayor': 17,\n",
       "          'stewardess': 2,\n",
       "          'consultation': 2,\n",
       "          'Harmon': 1,\n",
       "          'saffron': 1,\n",
       "          'Gino': 1,\n",
       "          'experience': 6,\n",
       "          \"association's\": 1,\n",
       "          'inflation': 1,\n",
       "          'leg': 4,\n",
       "          'warning': 4,\n",
       "          'pitifully': 2,\n",
       "          'outset': 1,\n",
       "          'scale': 1,\n",
       "          'Bowden': 2,\n",
       "          '1908': 2,\n",
       "          'repay': 1,\n",
       "          'summit': 8,\n",
       "          'Buffalo': 3,\n",
       "          'Spring': 1,\n",
       "          'involving': 4,\n",
       "          'Group': 5,\n",
       "          '250': 2,\n",
       "          'Home': 5,\n",
       "          'packed': 2,\n",
       "          'maligned': 1,\n",
       "          'Pillsbury': 1,\n",
       "          'postman': 1,\n",
       "          'appliques': 1,\n",
       "          'Leonard': 6,\n",
       "          'offices': 4,\n",
       "          'pecan': 1,\n",
       "          'potato': 6,\n",
       "          'bodies': 4,\n",
       "          'eager': 3,\n",
       "          'abortive': 2,\n",
       "          'republic': 1,\n",
       "          \"employers'\": 1,\n",
       "          'payment': 7,\n",
       "          'accounts': 2,\n",
       "          'stresses': 1,\n",
       "          'Italian': 6,\n",
       "          'proved': 6,\n",
       "          'Hutchins': 4,\n",
       "          'York': 52,\n",
       "          'Carty': 1,\n",
       "          'Wrigley': 1,\n",
       "          'giveaway': 1,\n",
       "          'Council': 17,\n",
       "          'seven-stories': 1,\n",
       "          'toll-road': 8,\n",
       "          'et': 1,\n",
       "          'eventually': 4,\n",
       "          'led': 17,\n",
       "          'cracked': 2,\n",
       "          '5-to-2': 1,\n",
       "          'Western': 7,\n",
       "          'Weissmuller': 1,\n",
       "          'boos': 2,\n",
       "          'Miami': 11,\n",
       "          '48': 3,\n",
       "          'notions': 1,\n",
       "          'Nordmann': 4,\n",
       "          'mathematics': 2,\n",
       "          'oops': 1,\n",
       "          'Boston': 13,\n",
       "          'grab': 2,\n",
       "          'Sigma': 1,\n",
       "          'Dixiecrats': 1,\n",
       "          'care': 18,\n",
       "          'Defends': 1,\n",
       "          'silenced': 1,\n",
       "          'glories': 1,\n",
       "          'leave': 5,\n",
       "          'heptachlor': 1,\n",
       "          'Vietnamese': 1,\n",
       "          'corresponding': 2,\n",
       "          'Wyoming': 1,\n",
       "          'tube': 1,\n",
       "          'passed': 18,\n",
       "          'salesmanship': 1,\n",
       "          'how': 37,\n",
       "          'material': 2,\n",
       "          'embossed': 1,\n",
       "          'Choice': 1,\n",
       "          'Expressways': 1,\n",
       "          'lukewarm': 1,\n",
       "          'situation': 17,\n",
       "          'Maybe': 2,\n",
       "          'Eileen': 1,\n",
       "          'infantile': 1,\n",
       "          'guidance': 4,\n",
       "          'ugly': 1,\n",
       "          'Ferdinand': 1,\n",
       "          'operators': 2,\n",
       "          \"bride's\": 4,\n",
       "          'considering': 2,\n",
       "          'champion': 10,\n",
       "          'Affairs': 3,\n",
       "          'dreams': 1,\n",
       "          'Boxwood': 1,\n",
       "          'Academy': 4,\n",
       "          'spearhead': 1,\n",
       "          'playable': 1,\n",
       "          'Governor': 6,\n",
       "          'Pasadena': 3,\n",
       "          '$12': 1,\n",
       "          'resigned': 5,\n",
       "          '14': 14,\n",
       "          'Gene': 5,\n",
       "          'batter': 1,\n",
       "          \"Weinstein's\": 1,\n",
       "          'anyone': 9,\n",
       "          'atmosphere': 5,\n",
       "          'collective': 9,\n",
       "          'hence': 1,\n",
       "          'Thakhek': 1,\n",
       "          'jobs': 10,\n",
       "          'Take': 2,\n",
       "          'provisions': 1,\n",
       "          'Each': 13,\n",
       "          'Gehrig': 2,\n",
       "          \"Government's\": 2,\n",
       "          'loans': 6,\n",
       "          'denied': 5,\n",
       "          '355': 1,\n",
       "          '1,509': 1,\n",
       "          'streams': 1,\n",
       "          'equalizers': 1,\n",
       "          'shortly': 5,\n",
       "          'catcher': 2,\n",
       "          'Aldo': 1,\n",
       "          'perform': 3,\n",
       "          'obliged': 1,\n",
       "          'Steelers': 2,\n",
       "          \"1960's\": 3,\n",
       "          'remove': 3,\n",
       "          'rock-strewn': 1,\n",
       "          'revenuers': 1,\n",
       "          'push': 2,\n",
       "          'Camille': 1,\n",
       "          '95': 3,\n",
       "          'spent': 12,\n",
       "          'bruises': 1,\n",
       "          'North': 29,\n",
       "          'cooperative': 3,\n",
       "          'land': 14,\n",
       "          'colonel': 1,\n",
       "          'Golf': 3,\n",
       "          'senior': 9,\n",
       "          'sagging': 2,\n",
       "          'Experts': 1,\n",
       "          'Tech.': 1,\n",
       "          'recent': 20,\n",
       "          'stag': 1,\n",
       "          \"1900's\": 1,\n",
       "          'Highway': 6,\n",
       "          'Buick': 1,\n",
       "          'grade': 3,\n",
       "          'Ierulli': 3,\n",
       "          'Nine': 1,\n",
       "          'innumerable': 1,\n",
       "          'collegiate': 1,\n",
       "          'Cheshire': 1,\n",
       "          'undermining': 1,\n",
       "          'grads': 2,\n",
       "          'decisions': 6,\n",
       "          '7.5': 1,\n",
       "          'employments': 1,\n",
       "          'Minnesota': 2,\n",
       "          'sponsored': 6,\n",
       "          'assailed': 1,\n",
       "          'somehow': 1,\n",
       "          'McNair': 3,\n",
       "          '8861': 1,\n",
       "          'bus': 11,\n",
       "          'stirred': 2,\n",
       "          'Tiao': 1,\n",
       "          'panels': 5,\n",
       "          'philosophy': 6,\n",
       "          'depended': 3,\n",
       "          'Hole': 1,\n",
       "          'anti-Colmer': 1,\n",
       "          'Priddy': 1,\n",
       "          '1,257,700': 1,\n",
       "          'expansion': 11,\n",
       "          'girl': 9,\n",
       "          'Yankee': 6,\n",
       "          'remedy': 1,\n",
       "          'Charley': 4,\n",
       "          'continues': 1,\n",
       "          'Nakoma': 1,\n",
       "          'Offenses': 1,\n",
       "          'Conceding': 1,\n",
       "          \"bridegroom's\": 2,\n",
       "          'divorce': 3,\n",
       "          'bearings': 1,\n",
       "          'Bevo': 2,\n",
       "          'Pullen': 1,\n",
       "          'honor': 13,\n",
       "          \"aren't\": 4,\n",
       "          'Newsom': 1,\n",
       "          'Has': 1,\n",
       "          'three-wood': 1,\n",
       "          'Toying': 1,\n",
       "          '54': 2,\n",
       "          'Millie': 1,\n",
       "          'toes': 1,\n",
       "          'released': 5,\n",
       "          '$840,000': 1,\n",
       "          'Parents': 2,\n",
       "          'sluggers': 2,\n",
       "          'bandit': 1,\n",
       "          'idols': 1,\n",
       "          'international': 23,\n",
       "          'wrongful': 1,\n",
       "          'filibuster': 2,\n",
       "          'needed': 26,\n",
       "          'Cincinnati': 7,\n",
       "          'Mead': 1,\n",
       "          'thinking': 4,\n",
       "          '38-7': 1,\n",
       "          'include': 12,\n",
       "          'Strong': 1,\n",
       "          'towels': 1,\n",
       "          'warm': 3,\n",
       "          'Congressman': 4,\n",
       "          '(': 168,\n",
       "          'who': 268,\n",
       "          'About': 11,\n",
       "          'enough': 27,\n",
       "          'cooperating': 2,\n",
       "          'paratroops': 1,\n",
       "          'Machinists': 1,\n",
       "          'discussions': 3,\n",
       "          'total': 32,\n",
       "          '1213': 1,\n",
       "          'triumph': 4,\n",
       "          'Red-prone': 1,\n",
       "          'ball-carriers': 1,\n",
       "          'Orioles': 8,\n",
       "          'elaborate': 3,\n",
       "          'Fletcher': 1,\n",
       "          'complete': 18,\n",
       "          'keynote': 3,\n",
       "          'defray': 1,\n",
       "          'Tim': 1,\n",
       "          'Owen': 1,\n",
       "          'describing': 1,\n",
       "          'Ilona': 1,\n",
       "          \"Huff's\": 1,\n",
       "          'Kasai': 2,\n",
       "          'silver': 3,\n",
       "          'pact': 1,\n",
       "          'Ballroom': 1,\n",
       "          'apparent': 7,\n",
       "          'Dwight': 5,\n",
       "          'dated': 1,\n",
       "          'godliness': 1,\n",
       "          'us': 12,\n",
       "          'noise': 1,\n",
       "          'Boyd': 1,\n",
       "          'Ford': 5,\n",
       "          'Cardinal': 1,\n",
       "          'domination': 1,\n",
       "          'Jimmy': 4,\n",
       "          'flash': 4,\n",
       "          '39': 3,\n",
       "          'Okla.': 3,\n",
       "          'refurbishing': 1,\n",
       "          'intervals': 3,\n",
       "          'Same': 1,\n",
       "          'lowest': 2,\n",
       "          'fled': 2,\n",
       "          'Individual': 2,\n",
       "          'Revenue': 5,\n",
       "          'virile': 1,\n",
       "          'foes': 2,\n",
       "          'Caldwell': 2,\n",
       "          'deductions': 2,\n",
       "          'Apartment': 1,\n",
       "          'one-room': 1,\n",
       "          'Moune': 1,\n",
       "          'erected': 2,\n",
       "          'Leatherneck': 1,\n",
       "          'disposal': 2,\n",
       "          'area': 39,\n",
       "          'unless': 6,\n",
       "          \"governor's\": 4,\n",
       "          'disunity': 1,\n",
       "          'outclassed': 1,\n",
       "          'Handsome': 1,\n",
       "          'explicit': 1,\n",
       "          'Cochran': 1,\n",
       "          'prominent': 3,\n",
       "          'Alba': 1,\n",
       "          'Perennian': 2,\n",
       "          'confirm': 3,\n",
       "          \"Rickey's\": 1,\n",
       "          'Garden': 7,\n",
       "          'exacerbated': 1,\n",
       "          'apologetically': 1,\n",
       "          'Albany': 3,\n",
       "          'surfaces': 1,\n",
       "          'Cox': 4,\n",
       "          'Empire': 2,\n",
       "          'USN.': 1,\n",
       "          '$39.5': 1,\n",
       "          'three': 97,\n",
       "          'Actress': 1,\n",
       "          'barn': 1,\n",
       "          'theaters': 6,\n",
       "          'Story': 1,\n",
       "          '130-year': 1,\n",
       "          'Europe': 6,\n",
       "          'Brocklin': 2,\n",
       "          'TEA': 1,\n",
       "          'selection': 4,\n",
       "          'engage': 3,\n",
       "          'testified': 7,\n",
       "          'parimutuels': 1,\n",
       "          'fraction': 1,\n",
       "          'Durante': 1,\n",
       "          'undoubtedly': 1,\n",
       "          'sales': 51,\n",
       "          'meaning': 4,\n",
       "          'doing': 7,\n",
       "          'Further': 2,\n",
       "          'fails': 2,\n",
       "          'Builders': 2,\n",
       "          'Virginia': 8,\n",
       "          'stewards': 2,\n",
       "          'Clayton': 6,\n",
       "          'scoreboards': 1,\n",
       "          'ashore': 1,\n",
       "          'Brig.': 1,\n",
       "          'fundamentals': 1,\n",
       "          'Rush': 1,\n",
       "          'entered': 9,\n",
       "          \"darlin'\": 1,\n",
       "          'Court': 26,\n",
       "          'Ill.': 5,\n",
       "          'Samuel': 9,\n",
       "          'trees': 2,\n",
       "          'distance': 2,\n",
       "          '3-10': 1,\n",
       "          'day': 61,\n",
       "          'Chinese': 2,\n",
       "          'aims': 2,\n",
       "          'sun': 2,\n",
       "          'second-place': 1,\n",
       "          'hike': 1,\n",
       "          \"Castro's\": 1,\n",
       "          'Artist': 1,\n",
       "          'either': 11,\n",
       "          'lot': 8,\n",
       "          'staffing': 1,\n",
       "          'required': 11,\n",
       "          'Myron': 1,\n",
       "          'Sciences': 1,\n",
       "          'classes': 3,\n",
       "          'Dodger': 1,\n",
       "          'paid': 25,\n",
       "          'ARF': 1,\n",
       "          'tone': 1,\n",
       "          'waterfront': 1,\n",
       "          'bomber': 4,\n",
       "          'declare': 1,\n",
       "          'Carol': 2,\n",
       "          \"organization's\": 3,\n",
       "          'mechanical': 1,\n",
       "          'totalitarian': 1,\n",
       "          'person': 9,\n",
       "          'Slim': 1,\n",
       "          'thanks': 6,\n",
       "          'Bermuda': 1,\n",
       "          'swim': 2,\n",
       "          'Cherry': 3,\n",
       "          'pearl': 2,\n",
       "          'gangland': 1,\n",
       "          'thug': 1,\n",
       "          'unusually': 2,\n",
       "          'Densmore': 1,\n",
       "          'indoor': 1,\n",
       "          '36th': 1,\n",
       "          'visible': 1,\n",
       "          'orchestra': 9,\n",
       "          'Wexler': 6,\n",
       "          'trend': 6,\n",
       "          'indeed': 1,\n",
       "          'executed': 2,\n",
       "          \"team's\": 2,\n",
       "          'Happy': 2,\n",
       "          'businessman': 2,\n",
       "          'Ellen': 1,\n",
       "          'accused': 8,\n",
       "          'agricultural': 2,\n",
       "          'confrontations': 1,\n",
       "          ...})"
      ]
     },
     "execution_count": 22,
     "metadata": {},
     "output_type": "execute_result"
    }
   ],
   "source": [
    "cfd['news']"
   ]
  },
  {
   "cell_type": "code",
   "execution_count": 23,
   "metadata": {
    "collapsed": false
   },
   "outputs": [
    {
     "data": {
      "text/plain": [
       "193"
      ]
     },
     "execution_count": 23,
     "metadata": {},
     "output_type": "execute_result"
    }
   ],
   "source": [
    "cfd['romance']['could']"
   ]
  },
  {
   "cell_type": "code",
   "execution_count": 24,
   "metadata": {
    "collapsed": true
   },
   "outputs": [],
   "source": [
    "genres=['news','religion','hobbies','science_fiction','romance','humor']"
   ]
  },
  {
   "cell_type": "code",
   "execution_count": 25,
   "metadata": {
    "collapsed": true
   },
   "outputs": [],
   "source": [
    "modals=['can','could','may','might','must','will']"
   ]
  },
  {
   "cell_type": "code",
   "execution_count": 26,
   "metadata": {
    "collapsed": false
   },
   "outputs": [
    {
     "name": "stdout",
     "output_type": "stream",
     "text": [
      "                  can could   may might  must  will \n",
      "           news    93    86    66    38    50   389 \n",
      "       religion    82    59    78    12    54    71 \n",
      "        hobbies   268    58   131    22    83   264 \n",
      "science_fiction    16    49     4    12     8    16 \n",
      "        romance    74   193    11    51    45    43 \n",
      "          humor    16    30     8     8     9    13 \n"
     ]
    }
   ],
   "source": [
    "cfd.tabulate(conditions=genres,samples=modals)"
   ]
  },
  {
   "cell_type": "markdown",
   "metadata": {},
   "source": [
    "### Most ambiguous word"
   ]
  },
  {
   "cell_type": "code",
   "execution_count": 27,
   "metadata": {
    "collapsed": false
   },
   "outputs": [],
   "source": [
    "cfd = nltk.ConditionalFreqDist(brown.tagged_words())"
   ]
  },
  {
   "cell_type": "code",
   "execution_count": 28,
   "metadata": {
    "collapsed": false
   },
   "outputs": [
    {
     "data": {
      "text/plain": [
       "['that', 'A', 'to', 'in', ':', 'a', 'as', 'That', 'Little', 'I']"
      ]
     },
     "execution_count": 28,
     "metadata": {},
     "output_type": "execute_result"
    }
   ],
   "source": [
    "sorted(cfd.conditions(),key=lambda x: len(cfd[x]),reverse=True)[:10]"
   ]
  },
  {
   "cell_type": "markdown",
   "metadata": {},
   "source": [
    "### PoS with largest number of distinct words"
   ]
  },
  {
   "cell_type": "code",
   "execution_count": 29,
   "metadata": {
    "collapsed": false
   },
   "outputs": [],
   "source": [
    " cfd2 = nltk.ConditionalFreqDist((tag,w) for (w,tag) in brown.tagged_words())"
   ]
  },
  {
   "cell_type": "code",
   "execution_count": 30,
   "metadata": {
    "collapsed": false
   },
   "outputs": [
    {
     "data": {
      "text/plain": [
       "['NN', 'JJ', 'NP', 'NNS', 'VBN', 'VBG', 'VB', 'VBD', 'RB', 'NN-TL']"
      ]
     },
     "execution_count": 30,
     "metadata": {},
     "output_type": "execute_result"
    }
   ],
   "source": [
    "sorted(cfd2.conditions(),key=lambda x: len(cfd2[x]),reverse=True)[:10]"
   ]
  },
  {
   "cell_type": "markdown",
   "metadata": {},
   "source": [
    "### Most frequent word following 'the'"
   ]
  },
  {
   "cell_type": "code",
   "execution_count": 31,
   "metadata": {
    "collapsed": true
   },
   "outputs": [],
   "source": [
    "cfd3 = nltk.ConditionalFreqDist(nltk.bigrams(brown.words()))"
   ]
  },
  {
   "cell_type": "code",
   "execution_count": 32,
   "metadata": {
    "collapsed": false
   },
   "outputs": [
    {
     "data": {
      "text/plain": [
       "'same'"
      ]
     },
     "execution_count": 32,
     "metadata": {},
     "output_type": "execute_result"
    }
   ],
   "source": [
    "cfd3['the'].max()"
   ]
  },
  {
   "cell_type": "code",
   "execution_count": 33,
   "metadata": {
    "collapsed": false
   },
   "outputs": [
    {
     "data": {
      "text/plain": [
       "'few'"
      ]
     },
     "execution_count": 33,
     "metadata": {},
     "output_type": "execute_result"
    }
   ],
   "source": [
    "cfd3['a'].max()"
   ]
  },
  {
   "cell_type": "markdown",
   "metadata": {},
   "source": [
    "### Generate most likely sequence of words"
   ]
  },
  {
   "cell_type": "code",
   "execution_count": 34,
   "metadata": {
    "collapsed": false
   },
   "outputs": [
    {
     "name": "stdout",
     "output_type": "stream",
     "text": [
      "the\n",
      "same\n",
      "time\n",
      ",\n",
      "and\n",
      "the\n",
      "same\n",
      "time\n",
      ",\n",
      "and\n",
      "the\n",
      "same\n",
      "time\n",
      ",\n",
      "and\n",
      "the\n",
      "same\n",
      "time\n",
      ",\n",
      "and\n"
     ]
    }
   ],
   "source": [
    "prev = \"the\"\n",
    "for i in range(20):\n",
    "    print(prev)\n",
    "    prev = cfd3[prev].max()"
   ]
  },
  {
   "cell_type": "markdown",
   "metadata": {},
   "source": [
    "# NLTK's Default Tagger"
   ]
  },
  {
   "cell_type": "code",
   "execution_count": 35,
   "metadata": {
    "collapsed": true
   },
   "outputs": [],
   "source": [
    "dt = nltk.DefaultTagger('NN')"
   ]
  },
  {
   "cell_type": "code",
   "execution_count": 36,
   "metadata": {
    "collapsed": false
   },
   "outputs": [
    {
     "data": {
      "text/plain": [
       "[('This', 'NN'), ('is', 'NN'), ('a', 'NN'), ('test', 'NN')]"
      ]
     },
     "execution_count": 36,
     "metadata": {},
     "output_type": "execute_result"
    }
   ],
   "source": [
    "text = \"This is a test\"\n",
    "dt.tag(nltk.word_tokenize(text))"
   ]
  },
  {
   "cell_type": "code",
   "execution_count": 37,
   "metadata": {
    "collapsed": false
   },
   "outputs": [
    {
     "data": {
      "text/plain": [
       "4623"
      ]
     },
     "execution_count": 37,
     "metadata": {},
     "output_type": "execute_result"
    }
   ],
   "source": [
    "from nltk.corpus import brown\n",
    "brown_tagged_sents = brown.tagged_sents(categories='news')\n",
    "len(brown_tagged_sents)"
   ]
  },
  {
   "cell_type": "code",
   "execution_count": 38,
   "metadata": {
    "collapsed": false
   },
   "outputs": [],
   "source": [
    "brown_tagged_sents_train = brown_tagged_sents[:3000]\n",
    "brown_tagged_sents_test = brown_tagged_sents[3000:]"
   ]
  },
  {
   "cell_type": "code",
   "execution_count": 39,
   "metadata": {
    "collapsed": false
   },
   "outputs": [
    {
     "data": {
      "text/plain": [
       "0.12598841741842076"
      ]
     },
     "execution_count": 39,
     "metadata": {},
     "output_type": "execute_result"
    }
   ],
   "source": [
    "dt.evaluate(brown_tagged_sents_test)"
   ]
  },
  {
   "cell_type": "markdown",
   "metadata": {},
   "source": [
    "# NLTK's Regular Expression Tagger"
   ]
  },
  {
   "cell_type": "code",
   "execution_count": 40,
   "metadata": {
    "collapsed": true
   },
   "outputs": [],
   "source": [
    "import nltk\n",
    "patterns = [\n",
    "       (r'^-?[0-9]+(.[0-9]+)?$', 'CD'), \n",
    "       (r'.*', 'NN')]"
   ]
  },
  {
   "cell_type": "code",
   "execution_count": 41,
   "metadata": {
    "collapsed": false
   },
   "outputs": [
    {
     "data": {
      "text/plain": [
       "[('there', 'NN'), ('are', 'NN'), ('5', 'CD'), ('words', 'NN'), ('here', 'NN')]"
      ]
     },
     "execution_count": 41,
     "metadata": {},
     "output_type": "execute_result"
    }
   ],
   "source": [
    "num_n_tagger = nltk.RegexpTagger(patterns)\n",
    "text = \"there are 5 words here\"\n",
    "num_n_tagger.tag(nltk.word_tokenize(text))"
   ]
  },
  {
   "cell_type": "code",
   "execution_count": 42,
   "metadata": {
    "collapsed": false
   },
   "outputs": [
    {
     "data": {
      "text/plain": [
       "0.1360118053235327"
      ]
     },
     "execution_count": 42,
     "metadata": {},
     "output_type": "execute_result"
    }
   ],
   "source": [
    "num_n_tagger.evaluate(brown_tagged_sents_test)"
   ]
  },
  {
   "cell_type": "markdown",
   "metadata": {},
   "source": [
    "### Using suffix information"
   ]
  },
  {
   "cell_type": "code",
   "execution_count": 43,
   "metadata": {
    "collapsed": true
   },
   "outputs": [],
   "source": [
    "patterns = [\n",
    "        (r'.*ing$', 'VBG'),               # gerunds\n",
    "        (r'.*ed$', 'VBD'),                # simple past\n",
    "        (r'.*es$', 'VBZ'),                # 3rd singular present\n",
    "        (r'^-?[0-9]+(.[0-9]+)?$', 'CD'),  # cardinal numbers\n",
    "        (r'.*', 'NN')                     # nouns (default)\n",
    "    ]"
   ]
  },
  {
   "cell_type": "code",
   "execution_count": 44,
   "metadata": {
    "collapsed": false
   },
   "outputs": [
    {
     "data": {
      "text/plain": [
       "0.15898206927274752"
      ]
     },
     "execution_count": 44,
     "metadata": {},
     "output_type": "execute_result"
    }
   ],
   "source": [
    "regexp_tagger = nltk.RegexpTagger(patterns)\n",
    "regexp_tagger.evaluate(brown_tagged_sents_test)"
   ]
  },
  {
   "cell_type": "markdown",
   "metadata": {},
   "source": [
    "# Lookup Tagger"
   ]
  },
  {
   "cell_type": "code",
   "execution_count": 45,
   "metadata": {
    "collapsed": false
   },
   "outputs": [],
   "source": [
    "brown_tagged_words_train = [tagged_words for sentence in brown_tagged_sents_train for tagged_words in sentence]\n",
    "wordcounts = collections.Counter(w for w,t in brown_tagged_words_train)\n",
    "top100words = [w for w,c in wordcounts.most_common(100)]\n",
    "cfd = nltk.ConditionalFreqDist(brown_tagged_words_train)\n",
    "likely_tags = dict((w,cfd[w].max()) for w in top100words)"
   ]
  },
  {
   "cell_type": "code",
   "execution_count": 46,
   "metadata": {
    "collapsed": false
   },
   "outputs": [
    {
     "data": {
      "text/plain": [
       "'AT'"
      ]
     },
     "execution_count": 46,
     "metadata": {},
     "output_type": "execute_result"
    }
   ],
   "source": [
    "likely_tags['the']"
   ]
  },
  {
   "cell_type": "code",
   "execution_count": 47,
   "metadata": {
    "collapsed": true
   },
   "outputs": [],
   "source": [
    "lookup_tagger = nltk.UnigramTagger(model=likely_tags)"
   ]
  },
  {
   "cell_type": "code",
   "execution_count": 49,
   "metadata": {
    "collapsed": false
   },
   "outputs": [
    {
     "data": {
      "text/plain": [
       "0.4577625570776256"
      ]
     },
     "execution_count": 49,
     "metadata": {},
     "output_type": "execute_result"
    }
   ],
   "source": [
    "lookup_tagger.evaluate(brown_tagged_sents_test)"
   ]
  },
  {
   "cell_type": "code",
   "execution_count": 50,
   "metadata": {
    "collapsed": false
   },
   "outputs": [
    {
     "data": {
      "text/plain": [
       "0.45219530307249606"
      ]
     },
     "execution_count": 50,
     "metadata": {},
     "output_type": "execute_result"
    }
   ],
   "source": [
    "lookup_tagger.evaluate(brown_tagged_sents_train)"
   ]
  },
  {
   "cell_type": "code",
   "execution_count": 52,
   "metadata": {
    "collapsed": false
   },
   "outputs": [
    {
     "data": {
      "text/plain": [
       "[('the', 'AT'), ('good', None), ('test', None)]"
      ]
     },
     "execution_count": 52,
     "metadata": {},
     "output_type": "execute_result"
    }
   ],
   "source": [
    "lookup_tagger.tag(nltk.word_tokenize(\"the good test\"))"
   ]
  },
  {
   "cell_type": "markdown",
   "metadata": {},
   "source": [
    "### Introducing backoff"
   ]
  },
  {
   "cell_type": "code",
   "execution_count": 53,
   "metadata": {
    "collapsed": false
   },
   "outputs": [
    {
     "data": {
      "text/plain": [
       "0.5802427887292572"
      ]
     },
     "execution_count": 53,
     "metadata": {},
     "output_type": "execute_result"
    }
   ],
   "source": [
    "lookup_tagger = nltk.UnigramTagger(model=likely_tags, \n",
    "                                   backoff=nltk.DefaultTagger(\"NN\"))\n",
    "lookup_tagger.evaluate(brown_tagged_sents_test)"
   ]
  },
  {
   "cell_type": "markdown",
   "metadata": {},
   "source": [
    "### How many words do we need?"
   ]
  },
  {
   "cell_type": "code",
   "execution_count": 54,
   "metadata": {
    "collapsed": true
   },
   "outputs": [],
   "source": [
    "def performance(cfd, wordlist):\n",
    "    lt = dict((word, cfd[word].max()) for word in wordlist)\n",
    "    baseline_tagger = nltk.UnigramTagger(model=lt,\n",
    "                                         backoff=nltk.DefaultTagger('NN'))\n",
    "    result = baseline_tagger.evaluate(brown_tagged_sents_test)\n",
    "    print(\"With\", len(wordlist), \"words:\", result)\n",
    "    return result"
   ]
  },
  {
   "cell_type": "code",
   "execution_count": 55,
   "metadata": {
    "collapsed": false
   },
   "outputs": [
    {
     "name": "stdout",
     "output_type": "stream",
     "text": [
      "With 1 words: 0.18334447043100568\n",
      "With 2 words: 0.23532687381668338\n",
      "With 4 words: 0.30170397594386905\n",
      "With 8 words: 0.3742900100233879\n",
      "With 16 words: 0.42939080075732267\n",
      "With 32 words: 0.4840182648401826\n",
      "With 64 words: 0.5481122619445372\n",
      "With 128 words: 0.5894030515647622\n",
      "With 256 words: 0.6291346475108587\n",
      "With 512 words: 0.6661933400155919\n",
      "With 1024 words: 0.7053959238222519\n",
      "With 2048 words: 0.7452667334892527\n",
      "With 4096 words: 0.7771745183205256\n",
      "With 8192 words: 0.8042655084085087\n",
      "With 10724 words: 0.8181590377547611\n"
     ]
    }
   ],
   "source": [
    "sizes = [2 ** x for x in range(15)]\n",
    "words_count = collections.Counter(w for w,t in brown_tagged_words_train)\n",
    "\n",
    "def words_by_freq(limit):\n",
    "    return [w for w,c in words_count.most_common(limit)]\n",
    "\n",
    "perfs = [performance(cfd, words_by_freq(size)) for size in sizes]"
   ]
  },
  {
   "cell_type": "code",
   "execution_count": 56,
   "metadata": {
    "collapsed": false
   },
   "outputs": [
    {
     "data": {
      "text/plain": [
       "<matplotlib.text.Text at 0x7f004c2cd390>"
      ]
     },
     "execution_count": 56,
     "metadata": {},
     "output_type": "execute_result"
    },
    {
     "data": {
      "image/png": "[encoded data removed]",
      "text/plain": [
       "<matplotlib.figure.Figure at 0x7f004cd44da0>"
      ]
     },
     "metadata": {},
     "output_type": "display_data"
    }
   ],
   "source": [
    "%matplotlib inline\n",
    "from matplotlib import pyplot as plt\n",
    "plt.plot(sizes, perfs, '-bo')\n",
    "plt.title('Lookup Tagger Performance with Varying Model Size')\n",
    "plt.xlabel('Model Size')\n",
    "plt.ylabel('Performance')"
   ]
  },
  {
   "cell_type": "markdown",
   "metadata": {},
   "source": [
    "# Unigram Tagger"
   ]
  },
  {
   "cell_type": "code",
   "execution_count": 57,
   "metadata": {
    "collapsed": false
   },
   "outputs": [
    {
     "data": {
      "text/plain": [
       "0.8181590377547611"
      ]
     },
     "execution_count": 57,
     "metadata": {},
     "output_type": "execute_result"
    }
   ],
   "source": [
    "unigram_tagger = nltk.UnigramTagger(brown_tagged_sents_train, \n",
    "                                    backoff=nltk.DefaultTagger(\"NN\"))\n",
    "unigram_tagger.evaluate(brown_tagged_sents_test)"
   ]
  },
  {
   "cell_type": "code",
   "execution_count": 58,
   "metadata": {
    "collapsed": false
   },
   "outputs": [
    {
     "data": {
      "text/plain": [
       "0.9362139917695473"
      ]
     },
     "execution_count": 58,
     "metadata": {},
     "output_type": "execute_result"
    }
   ],
   "source": [
    "unigram_tagger.evaluate(brown_tagged_sents_train)"
   ]
  },
  {
   "cell_type": "markdown",
   "metadata": {},
   "source": [
    "# Bigram Tagger"
   ]
  },
  {
   "cell_type": "code",
   "execution_count": 59,
   "metadata": {
    "collapsed": false
   },
   "outputs": [
    {
     "data": {
      "text/plain": [
       "0.0876768014255485"
      ]
     },
     "execution_count": 59,
     "metadata": {},
     "output_type": "execute_result"
    }
   ],
   "source": [
    "bigram_tagger = nltk.BigramTagger(brown_tagged_sents_train)\n",
    "bigram_tagger.evaluate(brown_tagged_sents_test)"
   ]
  },
  {
   "cell_type": "code",
   "execution_count": 60,
   "metadata": {
    "collapsed": false
   },
   "outputs": [
    {
     "data": {
      "text/plain": [
       "0.8031653207091803"
      ]
     },
     "execution_count": 60,
     "metadata": {},
     "output_type": "execute_result"
    }
   ],
   "source": [
    "bigram_tagger.evaluate(brown_tagged_sents_train)"
   ]
  },
  {
   "cell_type": "code",
   "execution_count": 62,
   "metadata": {
    "collapsed": false
   },
   "outputs": [
    {
     "data": {
      "text/plain": [
       "0.6936462857779263"
      ]
     },
     "execution_count": 62,
     "metadata": {},
     "output_type": "execute_result"
    }
   ],
   "source": [
    "bigram_tagger = nltk.BigramTagger(brown_tagged_sents_train,\n",
    "                                 backoff = nltk.DefaultTagger('NN'))\n",
    "bigram_tagger.evaluate(brown_tagged_sents_test)"
   ]
  },
  {
   "cell_type": "code",
   "execution_count": 63,
   "metadata": {
    "collapsed": false
   },
   "outputs": [
    {
     "data": {
      "text/plain": [
       "0.8243122842187326"
      ]
     },
     "execution_count": 63,
     "metadata": {},
     "output_type": "execute_result"
    }
   ],
   "source": [
    "bigram_tagger = nltk.BigramTagger(brown_tagged_sents_train,\n",
    "                                 backoff = unigram_tagger)\n",
    "bigram_tagger.evaluate(brown_tagged_sents_test)"
   ]
  },
  {
   "cell_type": "code",
   "execution_count": null,
   "metadata": {
    "collapsed": true
   },
   "outputs": [],
   "source": []
  }
 ],
 "metadata": {
  "kernelspec": {
   "display_name": "Python 3",
   "language": "python",
   "name": "python3"
  },
  "language_info": {
   "codemirror_mode": {
    "name": "ipython",
    "version": 3
   },
   "file_extension": ".py",
   "mimetype": "text/x-python",
   "name": "python",
   "nbconvert_exporter": "python",
   "pygments_lexer": "ipython3",
   "version": "3.4.3+"
  }
 },
 "nbformat": 4,
 "nbformat_minor": 0
}
