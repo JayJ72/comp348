{
 "cells": [
  {
   "cell_type": "markdown",
   "metadata": {},
   "source": [
    "# NLTK Built-in PoS Tagger"
   ]
  },
  {
   "cell_type": "code",
   "execution_count": 1,
   "metadata": {
    "collapsed": false
   },
   "outputs": [
    {
     "name": "stdout",
     "output_type": "stream",
     "text": [
      "[nltk_data] Downloading package punkt to /root/nltk_data...\n",
      "[nltk_data]   Unzipping tokenizers/punkt.zip.\n"
     ]
    },
    {
     "data": {
      "text/plain": [
       "['And', 'now', 'for', 'something', 'completely', 'different']"
      ]
     },
     "execution_count": 1,
     "metadata": {},
     "output_type": "execute_result"
    }
   ],
   "source": [
    "import nltk\n",
    "nltk.download(\"punkt\")\n",
    "text=nltk.wordpunct_tokenize(\"And now for something completely different\")\n",
    "text"
   ]
  },
  {
   "cell_type": "code",
   "execution_count": 3,
   "metadata": {
    "collapsed": false
   },
   "outputs": [
    {
     "name": "stdout",
     "output_type": "stream",
     "text": [
      "[nltk_data] Downloading package averaged_perceptron_tagger to\n",
      "[nltk_data]     /root/nltk_data...\n",
      "[nltk_data]   Unzipping taggers/averaged_perceptron_tagger.zip.\n"
     ]
    },
    {
     "data": {
      "text/plain": [
       "[('And', 'CC'),\n",
       " ('now', 'RB'),\n",
       " ('for', 'IN'),\n",
       " ('something', 'NN'),\n",
       " ('completely', 'RB'),\n",
       " ('different', 'JJ')]"
      ]
     },
     "execution_count": 3,
     "metadata": {},
     "output_type": "execute_result"
    }
   ],
   "source": [
    "nltk.download(\"averaged_perceptron_tagger\")\n",
    "nltk.pos_tag(text)"
   ]
  },
  {
   "cell_type": "code",
   "execution_count": 4,
   "metadata": {
    "collapsed": false
   },
   "outputs": [
    {
     "data": {
      "text/plain": [
       "['They',\n",
       " 'refuse',\n",
       " 'to',\n",
       " 'permit',\n",
       " 'us',\n",
       " 'to',\n",
       " 'obtain',\n",
       " 'the',\n",
       " 'refuse',\n",
       " 'permit']"
      ]
     },
     "execution_count": 4,
     "metadata": {},
     "output_type": "execute_result"
    }
   ],
   "source": [
    "text=nltk.word_tokenize(\"\"\"They refuse to permit us to obtain the \n",
    "refuse permit\"\"\")\n",
    "text"
   ]
  },
  {
   "cell_type": "code",
   "execution_count": 5,
   "metadata": {
    "collapsed": false
   },
   "outputs": [
    {
     "data": {
      "text/plain": [
       "[('They', 'PRP'),\n",
       " ('refuse', 'VBP'),\n",
       " ('to', 'TO'),\n",
       " ('permit', 'VB'),\n",
       " ('us', 'PRP'),\n",
       " ('to', 'TO'),\n",
       " ('obtain', 'VB'),\n",
       " ('the', 'DT'),\n",
       " ('refuse', 'NN'),\n",
       " ('permit', 'NN')]"
      ]
     },
     "execution_count": 5,
     "metadata": {},
     "output_type": "execute_result"
    }
   ],
   "source": [
    "nltk.pos_tag(text)"
   ]
  },
  {
   "cell_type": "markdown",
   "metadata": {},
   "source": [
    "# The Penn Treebank"
   ]
  },
  {
   "cell_type": "code",
   "execution_count": 6,
   "metadata": {
    "collapsed": false
   },
   "outputs": [
    {
     "name": "stdout",
     "output_type": "stream",
     "text": [
      "[nltk_data] Downloading package treebank to /root/nltk_data...\n",
      "[nltk_data]   Unzipping corpora/treebank.zip.\n"
     ]
    }
   ],
   "source": [
    "nltk.download(\"treebank\")\n",
    "from nltk.corpus import treebank"
   ]
  },
  {
   "cell_type": "code",
   "execution_count": 7,
   "metadata": {
    "collapsed": false
   },
   "outputs": [
    {
     "data": {
      "text/plain": [
       "['Pierre',\n",
       " 'Vinken',\n",
       " ',',\n",
       " '61',\n",
       " 'years',\n",
       " 'old',\n",
       " ',',\n",
       " 'will',\n",
       " 'join',\n",
       " 'the',\n",
       " 'board',\n",
       " 'as',\n",
       " 'a',\n",
       " 'nonexecutive',\n",
       " 'director',\n",
       " 'Nov.',\n",
       " '29',\n",
       " '.',\n",
       " 'Mr.',\n",
       " 'Vinken']"
      ]
     },
     "execution_count": 7,
     "metadata": {},
     "output_type": "execute_result"
    }
   ],
   "source": [
    "w = treebank.words()\n",
    "w[:20]"
   ]
  },
  {
   "cell_type": "code",
   "execution_count": 8,
   "metadata": {
    "collapsed": false
   },
   "outputs": [
    {
     "data": {
      "text/plain": [
       "'\\n( (S \\n    (NP-SBJ \\n      (NP (NNP Pierre) (NNP Vinken) )\\n      (, ,) \\n      (ADJP \\n        (NP (CD '"
      ]
     },
     "execution_count": 8,
     "metadata": {},
     "output_type": "execute_result"
    }
   ],
   "source": [
    "r = treebank.raw()\n",
    "r[:100]"
   ]
  },
  {
   "cell_type": "code",
   "execution_count": 9,
   "metadata": {
    "collapsed": false
   },
   "outputs": [
    {
     "data": {
      "text/plain": [
       "[('Pierre', 'NNP'),\n",
       " ('Vinken', 'NNP'),\n",
       " (',', ','),\n",
       " ('61', 'CD'),\n",
       " ('years', 'NNS'),\n",
       " ('old', 'JJ'),\n",
       " (',', ','),\n",
       " ('will', 'MD'),\n",
       " ('join', 'VB'),\n",
       " ('the', 'DT'),\n",
       " ('board', 'NN'),\n",
       " ('as', 'IN'),\n",
       " ('a', 'DT'),\n",
       " ('nonexecutive', 'JJ'),\n",
       " ('director', 'NN'),\n",
       " ('Nov.', 'NNP'),\n",
       " ('29', 'CD'),\n",
       " ('.', '.'),\n",
       " ('Mr.', 'NNP'),\n",
       " ('Vinken', 'NNP')]"
      ]
     },
     "execution_count": 9,
     "metadata": {},
     "output_type": "execute_result"
    }
   ],
   "source": [
    "tw = treebank.tagged_words()\n",
    "tw[:20]"
   ]
  },
  {
   "cell_type": "code",
   "execution_count": 10,
   "metadata": {
    "collapsed": false
   },
   "outputs": [
    {
     "data": {
      "text/plain": [
       "[[('Pierre', 'NNP'),\n",
       "  ('Vinken', 'NNP'),\n",
       "  (',', ','),\n",
       "  ('61', 'CD'),\n",
       "  ('years', 'NNS'),\n",
       "  ('old', 'JJ'),\n",
       "  (',', ','),\n",
       "  ('will', 'MD'),\n",
       "  ('join', 'VB'),\n",
       "  ('the', 'DT'),\n",
       "  ('board', 'NN'),\n",
       "  ('as', 'IN'),\n",
       "  ('a', 'DT'),\n",
       "  ('nonexecutive', 'JJ'),\n",
       "  ('director', 'NN'),\n",
       "  ('Nov.', 'NNP'),\n",
       "  ('29', 'CD'),\n",
       "  ('.', '.')],\n",
       " [('Mr.', 'NNP'),\n",
       "  ('Vinken', 'NNP'),\n",
       "  ('is', 'VBZ'),\n",
       "  ('chairman', 'NN'),\n",
       "  ('of', 'IN'),\n",
       "  ('Elsevier', 'NNP'),\n",
       "  ('N.V.', 'NNP'),\n",
       "  (',', ','),\n",
       "  ('the', 'DT'),\n",
       "  ('Dutch', 'NNP'),\n",
       "  ('publishing', 'VBG'),\n",
       "  ('group', 'NN'),\n",
       "  ('.', '.')]]"
      ]
     },
     "execution_count": 10,
     "metadata": {},
     "output_type": "execute_result"
    }
   ],
   "source": [
    "ts = treebank.tagged_sents()\n",
    "ts[:2]"
   ]
  },
  {
   "cell_type": "markdown",
   "metadata": {},
   "source": [
    "# The Brown Corpus"
   ]
  },
  {
   "cell_type": "code",
   "execution_count": 11,
   "metadata": {
    "collapsed": false
   },
   "outputs": [
    {
     "name": "stdout",
     "output_type": "stream",
     "text": [
      "[nltk_data] Downloading package brown to /root/nltk_data...\n",
      "[nltk_data]   Package brown is already up-to-date!\n"
     ]
    },
    {
     "data": {
      "text/plain": [
       "'\\n\\n\\tThe/at Fulton/np-tl County/nn-tl Grand/jj-tl Jury/nn-tl said/vbd Friday/nr an/at investigation/nn'"
      ]
     },
     "execution_count": 11,
     "metadata": {},
     "output_type": "execute_result"
    }
   ],
   "source": [
    "nltk.download(\"brown\")\n",
    "from nltk.corpus import brown\n",
    "brown.raw()[0:100]"
   ]
  },
  {
   "cell_type": "code",
   "execution_count": 12,
   "metadata": {
    "collapsed": false
   },
   "outputs": [
    {
     "data": {
      "text/plain": [
       "['adventure',\n",
       " 'belles_lettres',\n",
       " 'editorial',\n",
       " 'fiction',\n",
       " 'government',\n",
       " 'hobbies',\n",
       " 'humor',\n",
       " 'learned',\n",
       " 'lore',\n",
       " 'mystery',\n",
       " 'news',\n",
       " 'religion',\n",
       " 'reviews',\n",
       " 'romance',\n",
       " 'science_fiction']"
      ]
     },
     "execution_count": 12,
     "metadata": {},
     "output_type": "execute_result"
    }
   ],
   "source": [
    "brown.categories()"
   ]
  },
  {
   "cell_type": "code",
   "execution_count": 13,
   "metadata": {
    "collapsed": false
   },
   "outputs": [
    {
     "data": {
      "text/plain": [
       "['The', 'Fulton', 'County', 'Grand', 'Jury', 'said', ...]"
      ]
     },
     "execution_count": 13,
     "metadata": {},
     "output_type": "execute_result"
    }
   ],
   "source": [
    "brown.words(categories='news')"
   ]
  },
  {
   "cell_type": "code",
   "execution_count": 14,
   "metadata": {
    "collapsed": false
   },
   "outputs": [
    {
     "data": {
      "text/plain": [
       "['Does', 'our', 'society', 'have', 'a', 'runaway', ',', ...]"
      ]
     },
     "execution_count": 14,
     "metadata": {},
     "output_type": "execute_result"
    }
   ],
   "source": [
    "brown.words(fileids=['cg22'])"
   ]
  },
  {
   "cell_type": "code",
   "execution_count": 15,
   "metadata": {
    "collapsed": false
   },
   "outputs": [
    {
     "data": {
      "text/plain": [
       "[['The', 'Fulton', 'County', 'Grand', 'Jury', 'said', 'Friday', 'an', 'investigation', 'of', \"Atlanta's\", 'recent', 'primary', 'election', 'produced', '``', 'no', 'evidence', \"''\", 'that', 'any', 'irregularities', 'took', 'place', '.'], ['The', 'jury', 'further', 'said', 'in', 'term-end', 'presentments', 'that', 'the', 'City', 'Executive', 'Committee', ',', 'which', 'had', 'over-all', 'charge', 'of', 'the', 'election', ',', '``', 'deserves', 'the', 'praise', 'and', 'thanks', 'of', 'the', 'City', 'of', 'Atlanta', \"''\", 'for', 'the', 'manner', 'in', 'which', 'the', 'election', 'was', 'conducted', '.'], ...]"
      ]
     },
     "execution_count": 15,
     "metadata": {},
     "output_type": "execute_result"
    }
   ],
   "source": [
    "brown.sents(categories=['news','editorial','reviews'])"
   ]
  },
  {
   "cell_type": "code",
   "execution_count": 16,
   "metadata": {
    "collapsed": false
   },
   "outputs": [
    {
     "data": {
      "text/plain": [
       "[('The', 'AT'), ('Fulton', 'NP-TL'), ...]"
      ]
     },
     "execution_count": 16,
     "metadata": {},
     "output_type": "execute_result"
    }
   ],
   "source": [
    "brown.tagged_words()"
   ]
  },
  {
   "cell_type": "code",
   "execution_count": 17,
   "metadata": {
    "collapsed": false
   },
   "outputs": [
    {
     "data": {
      "text/plain": [
       "[[('The', 'AT'), ('Fulton', 'NP-TL'), ('County', 'NN-TL'), ('Grand', 'JJ-TL'), ('Jury', 'NN-TL'), ('said', 'VBD'), ('Friday', 'NR'), ('an', 'AT'), ('investigation', 'NN'), ('of', 'IN'), (\"Atlanta's\", 'NP$'), ('recent', 'JJ'), ('primary', 'NN'), ('election', 'NN'), ('produced', 'VBD'), ('``', '``'), ('no', 'AT'), ('evidence', 'NN'), (\"''\", \"''\"), ('that', 'CS'), ('any', 'DTI'), ('irregularities', 'NNS'), ('took', 'VBD'), ('place', 'NN'), ('.', '.')], [('The', 'AT'), ('jury', 'NN'), ('further', 'RBR'), ('said', 'VBD'), ('in', 'IN'), ('term-end', 'NN'), ('presentments', 'NNS'), ('that', 'CS'), ('the', 'AT'), ('City', 'NN-TL'), ('Executive', 'JJ-TL'), ('Committee', 'NN-TL'), (',', ','), ('which', 'WDT'), ('had', 'HVD'), ('over-all', 'JJ'), ('charge', 'NN'), ('of', 'IN'), ('the', 'AT'), ('election', 'NN'), (',', ','), ('``', '``'), ('deserves', 'VBZ'), ('the', 'AT'), ('praise', 'NN'), ('and', 'CC'), ('thanks', 'NNS'), ('of', 'IN'), ('the', 'AT'), ('City', 'NN-TL'), ('of', 'IN-TL'), ('Atlanta', 'NP-TL'), (\"''\", \"''\"), ('for', 'IN'), ('the', 'AT'), ('manner', 'NN'), ('in', 'IN'), ('which', 'WDT'), ('the', 'AT'), ('election', 'NN'), ('was', 'BEDZ'), ('conducted', 'VBN'), ('.', '.')], ...]"
      ]
     },
     "execution_count": 17,
     "metadata": {},
     "output_type": "execute_result"
    }
   ],
   "source": [
    "brown.tagged_sents()"
   ]
  },
  {
   "cell_type": "markdown",
   "metadata": {},
   "source": [
    "### Most frequent part of speech"
   ]
  },
  {
   "cell_type": "code",
   "execution_count": 18,
   "metadata": {
    "collapsed": false
   },
   "outputs": [
    {
     "data": {
      "text/plain": [
       "[('NN', 152470),\n",
       " ('IN', 120557),\n",
       " ('AT', 97959),\n",
       " ('JJ', 64028),\n",
       " ('.', 60638),\n",
       " (',', 58156),\n",
       " ('NNS', 55110),\n",
       " ('CC', 37718),\n",
       " ('RB', 36464),\n",
       " ('NP', 34476)]"
      ]
     },
     "execution_count": 18,
     "metadata": {},
     "output_type": "execute_result"
    }
   ],
   "source": [
    "import collections\n",
    "c = collections.Counter(t for w,t in brown.tagged_words())\n",
    "c.most_common(10)"
   ]
  },
  {
   "cell_type": "markdown",
   "metadata": {},
   "source": [
    "### Most common verbs in news text\n",
    "\n",
    "You can find a list of parts of speech in the Brown corpus in [Wikipedia](https://en.wikipedia.org/wiki/Brown_Corpus#Part-of-speech_tags_used). We need to search for tags that begin with `VB`."
   ]
  },
  {
   "cell_type": "code",
   "execution_count": 19,
   "metadata": {
    "collapsed": false
   },
   "outputs": [
    {
     "data": {
      "text/plain": [
       "[('said', 402),\n",
       " ('made', 107),\n",
       " ('get', 66),\n",
       " ('United', 58),\n",
       " ('told', 53),\n",
       " ('take', 48),\n",
       " ('took', 47),\n",
       " ('set', 46),\n",
       " ('got', 45),\n",
       " ('make', 43)]"
      ]
     },
     "execution_count": 19,
     "metadata": {},
     "output_type": "execute_result"
    }
   ],
   "source": [
    "c = collections.Counter(w for w,t in brown.tagged_words(categories='news') \n",
    "                        if t[:2]=='VB')\n",
    "c.most_common(10)"
   ]
  },
  {
   "cell_type": "markdown",
   "metadata": {},
   "source": [
    "### Most frequent part of speech before a noun"
   ]
  },
  {
   "cell_type": "code",
   "execution_count": 20,
   "metadata": {
    "collapsed": false
   },
   "outputs": [
    {
     "data": {
      "text/plain": [
       "[('AT', 63829),\n",
       " ('JJ', 41834),\n",
       " ('IN', 32457),\n",
       " ('NN', 18641),\n",
       " ('PP$', 12417),\n",
       " ('NP', 10295),\n",
       " ('CC', 8848),\n",
       " (',', 7983),\n",
       " ('.', 7315),\n",
       " ('CD', 5473)]"
      ]
     },
     "execution_count": 20,
     "metadata": {},
     "output_type": "execute_result"
    }
   ],
   "source": [
    "bigrams = nltk.bigrams(brown.tagged_words())\n",
    "c = collections.Counter(t for ((w,t),(w2,t2)) in bigrams if t2[0]=='N')\n",
    "c.most_common(10)"
   ]
  },
  {
   "cell_type": "markdown",
   "metadata": {},
   "source": [
    "`AT` is the PoS tag for articles (det, a, no)"
   ]
  },
  {
   "cell_type": "markdown",
   "metadata": {},
   "source": [
    "# Conditional Frequency Distributions"
   ]
  },
  {
   "cell_type": "markdown",
   "metadata": {},
   "source": [
    "### Counting words by genre"
   ]
  },
  {
   "cell_type": "code",
   "execution_count": 21,
   "metadata": {
    "collapsed": true
   },
   "outputs": [],
   "source": [
    "cfd = nltk.ConditionalFreqDist((g,w) \n",
    "                             for g in brown.categories()\n",
    "                             for w in brown.words(categories=g))"
   ]
  },
  {
   "cell_type": "code",
   "execution_count": 22,
   "metadata": {
    "collapsed": false
   },
   "outputs": [
    {
     "data": {
      "text/plain": [
       "['adventure',\n",
       " 'belles_lettres',\n",
       " 'editorial',\n",
       " 'fiction',\n",
       " 'government',\n",
       " 'hobbies',\n",
       " 'humor',\n",
       " 'learned',\n",
       " 'lore',\n",
       " 'mystery',\n",
       " 'news',\n",
       " 'religion',\n",
       " 'reviews',\n",
       " 'romance',\n",
       " 'science_fiction']"
      ]
     },
     "execution_count": 22,
     "metadata": {},
     "output_type": "execute_result"
    }
   ],
   "source": [
    "cfd.conditions()"
   ]
  },
  {
   "cell_type": "code",
   "execution_count": 23,
   "metadata": {
    "collapsed": false
   },
   "outputs": [
    {
     "data": {
      "text/plain": [
       "FreqDist({'The': 806,\n",
       "          'Fulton': 14,\n",
       "          'County': 35,\n",
       "          'Grand': 6,\n",
       "          'Jury': 2,\n",
       "          'said': 402,\n",
       "          'Friday': 41,\n",
       "          'an': 300,\n",
       "          'investigation': 9,\n",
       "          'of': 2849,\n",
       "          \"Atlanta's\": 4,\n",
       "          'recent': 20,\n",
       "          'primary': 17,\n",
       "          'election': 38,\n",
       "          'produced': 6,\n",
       "          '``': 732,\n",
       "          'no': 109,\n",
       "          'evidence': 17,\n",
       "          \"''\": 702,\n",
       "          'that': 802,\n",
       "          'any': 90,\n",
       "          'irregularities': 3,\n",
       "          'took': 47,\n",
       "          'place': 25,\n",
       "          '.': 4030,\n",
       "          'jury': 44,\n",
       "          'further': 16,\n",
       "          'in': 1893,\n",
       "          'term-end': 1,\n",
       "          'presentments': 1,\n",
       "          'the': 5580,\n",
       "          'City': 44,\n",
       "          'Executive': 6,\n",
       "          'Committee': 37,\n",
       "          ',': 5188,\n",
       "          'which': 244,\n",
       "          'had': 279,\n",
       "          'over-all': 2,\n",
       "          'charge': 17,\n",
       "          'deserves': 3,\n",
       "          'praise': 2,\n",
       "          'and': 2146,\n",
       "          'thanks': 6,\n",
       "          'Atlanta': 14,\n",
       "          'for': 943,\n",
       "          'manner': 7,\n",
       "          'was': 717,\n",
       "          'conducted': 8,\n",
       "          'September-October': 1,\n",
       "          'term': 13,\n",
       "          'been': 212,\n",
       "          'charged': 12,\n",
       "          'by': 497,\n",
       "          'Superior': 5,\n",
       "          'Court': 26,\n",
       "          'Judge': 28,\n",
       "          'Durwood': 1,\n",
       "          'Pye': 1,\n",
       "          'to': 2116,\n",
       "          'investigate': 3,\n",
       "          'reports': 12,\n",
       "          'possible': 28,\n",
       "          'hard-fought': 1,\n",
       "          'won': 24,\n",
       "          'Mayor-nominate': 1,\n",
       "          'Ivan': 2,\n",
       "          'Allen': 7,\n",
       "          'Jr.': 46,\n",
       "          'Only': 8,\n",
       "          'a': 1993,\n",
       "          'relative': 3,\n",
       "          'handful': 1,\n",
       "          'such': 70,\n",
       "          'received': 33,\n",
       "          'considering': 2,\n",
       "          'widespread': 4,\n",
       "          'interest': 32,\n",
       "          'number': 32,\n",
       "          'voters': 12,\n",
       "          'size': 8,\n",
       "          'this': 250,\n",
       "          'city': 49,\n",
       "          'it': 363,\n",
       "          'did': 63,\n",
       "          'find': 16,\n",
       "          'many': 60,\n",
       "          \"Georgia's\": 7,\n",
       "          'registration': 2,\n",
       "          'laws': 30,\n",
       "          'are': 328,\n",
       "          'outmoded': 1,\n",
       "          'or': 173,\n",
       "          'inadequate': 4,\n",
       "          'often': 14,\n",
       "          'ambiguous': 1,\n",
       "          'It': 115,\n",
       "          'recommended': 9,\n",
       "          'legislators': 8,\n",
       "          'act': 20,\n",
       "          'have': 265,\n",
       "          'these': 59,\n",
       "          'studied': 7,\n",
       "          'revised': 2,\n",
       "          'end': 29,\n",
       "          'modernizing': 1,\n",
       "          'improving': 4,\n",
       "          'them': 96,\n",
       "          'grand': 13,\n",
       "          'commented': 7,\n",
       "          'on': 657,\n",
       "          'other': 149,\n",
       "          'topics': 2,\n",
       "          'among': 24,\n",
       "          'purchasing': 3,\n",
       "          'departments': 2,\n",
       "          'well': 43,\n",
       "          'operated': 4,\n",
       "          'follow': 12,\n",
       "          'generally': 14,\n",
       "          'accepted': 4,\n",
       "          'practices': 7,\n",
       "          'inure': 1,\n",
       "          'best': 29,\n",
       "          'both': 56,\n",
       "          'governments': 5,\n",
       "          'Merger': 1,\n",
       "          'proposed': 18,\n",
       "          'However': 12,\n",
       "          'believes': 8,\n",
       "          'two': 157,\n",
       "          'offices': 4,\n",
       "          'should': 59,\n",
       "          'be': 526,\n",
       "          'combined': 9,\n",
       "          'achieve': 6,\n",
       "          'greater': 10,\n",
       "          'efficiency': 2,\n",
       "          'reduce': 8,\n",
       "          'cost': 15,\n",
       "          'administration': 52,\n",
       "          'Purchasing': 1,\n",
       "          'Department': 20,\n",
       "          'is': 732,\n",
       "          'lacking': 3,\n",
       "          'experienced': 4,\n",
       "          'clerical': 4,\n",
       "          'personnel': 11,\n",
       "          'as': 481,\n",
       "          'result': 30,\n",
       "          'policies': 8,\n",
       "          'urged': 11,\n",
       "          'take': 48,\n",
       "          'steps': 8,\n",
       "          'remedy': 1,\n",
       "          'problem': 39,\n",
       "          'Implementation': 1,\n",
       "          'automobile': 4,\n",
       "          'title': 3,\n",
       "          'law': 38,\n",
       "          'also': 120,\n",
       "          'outgoing': 3,\n",
       "          'next': 40,\n",
       "          'Legislature': 19,\n",
       "          'provide': 24,\n",
       "          'enabling': 5,\n",
       "          'funds': 28,\n",
       "          're-set': 1,\n",
       "          'effective': 15,\n",
       "          'date': 16,\n",
       "          'so': 67,\n",
       "          'orderly': 3,\n",
       "          'implementation': 1,\n",
       "          'may': 66,\n",
       "          'effected': 1,\n",
       "          'swipe': 1,\n",
       "          'at': 598,\n",
       "          'State': 63,\n",
       "          'Welfare': 3,\n",
       "          \"Department's\": 2,\n",
       "          'handling': 3,\n",
       "          'federal': 35,\n",
       "          'granted': 5,\n",
       "          'child': 9,\n",
       "          'welfare': 13,\n",
       "          'services': 18,\n",
       "          'foster': 1,\n",
       "          'homes': 9,\n",
       "          'This': 70,\n",
       "          'one': 184,\n",
       "          'major': 28,\n",
       "          'items': 4,\n",
       "          'general': 29,\n",
       "          'assistance': 8,\n",
       "          'program': 66,\n",
       "          'but': 174,\n",
       "          'has': 300,\n",
       "          'seen': 7,\n",
       "          'fit': 3,\n",
       "          'distribute': 2,\n",
       "          'through': 54,\n",
       "          'all': 163,\n",
       "          'counties': 13,\n",
       "          'state': 90,\n",
       "          'with': 545,\n",
       "          'exception': 4,\n",
       "          'receives': 1,\n",
       "          'none': 7,\n",
       "          'money': 29,\n",
       "          'jurors': 4,\n",
       "          'they': 205,\n",
       "          'realize': 4,\n",
       "          'proportionate': 1,\n",
       "          'distribution': 7,\n",
       "          'might': 38,\n",
       "          'disable': 1,\n",
       "          'our': 55,\n",
       "          'less': 10,\n",
       "          'populous': 3,\n",
       "          'Nevertheless': 1,\n",
       "          'we': 77,\n",
       "          'feel': 19,\n",
       "          'future': 25,\n",
       "          'receive': 15,\n",
       "          'some': 95,\n",
       "          'portion': 2,\n",
       "          'available': 10,\n",
       "          'Failure': 2,\n",
       "          'do': 63,\n",
       "          'will': 389,\n",
       "          'continue': 11,\n",
       "          'disproportionate': 1,\n",
       "          'burden': 2,\n",
       "          'taxpayers': 5,\n",
       "          \"ordinary's\": 1,\n",
       "          'court': 29,\n",
       "          'under': 83,\n",
       "          'fire': 21,\n",
       "          'its': 174,\n",
       "          'appointment': 8,\n",
       "          'appraisers': 1,\n",
       "          'guardians': 2,\n",
       "          'administrators': 1,\n",
       "          'awarding': 1,\n",
       "          'fees': 13,\n",
       "          'compensation': 4,\n",
       "          'Wards': 1,\n",
       "          'protected': 1,\n",
       "          'found': 30,\n",
       "          'incorporated': 1,\n",
       "          'into': 114,\n",
       "          'operating': 4,\n",
       "          'procedures': 5,\n",
       "          'recommendations': 6,\n",
       "          'previous': 11,\n",
       "          'juries': 1,\n",
       "          'Bar': 2,\n",
       "          'Association': 18,\n",
       "          'interim': 2,\n",
       "          'citizens': 6,\n",
       "          'committee': 38,\n",
       "          'These': 11,\n",
       "          'actions': 6,\n",
       "          'serve': 7,\n",
       "          'protect': 2,\n",
       "          'fact': 25,\n",
       "          'effect': 17,\n",
       "          \"court's\": 1,\n",
       "          'wards': 1,\n",
       "          'from': 344,\n",
       "          'undue': 2,\n",
       "          'costs': 18,\n",
       "          'appointed': 6,\n",
       "          'elected': 11,\n",
       "          'servants': 5,\n",
       "          'unmeritorious': 1,\n",
       "          'criticisms': 2,\n",
       "          'Regarding': 1,\n",
       "          'new': 148,\n",
       "          'multi-million-dollar': 1,\n",
       "          'airport': 3,\n",
       "          'when': 128,\n",
       "          'management': 6,\n",
       "          'takes': 7,\n",
       "          'Jan.': 15,\n",
       "          '1': 47,\n",
       "          'eliminate': 5,\n",
       "          'political': 27,\n",
       "          'influences': 1,\n",
       "          'not': 254,\n",
       "          'elaborate': 3,\n",
       "          'added': 33,\n",
       "          'there': 131,\n",
       "          'periodic': 1,\n",
       "          'surveillance': 1,\n",
       "          'pricing': 3,\n",
       "          'concessionaires': 1,\n",
       "          'purpose': 9,\n",
       "          'keeping': 4,\n",
       "          'prices': 19,\n",
       "          'reasonable': 2,\n",
       "          'Ask': 1,\n",
       "          'jail': 6,\n",
       "          'deputies': 3,\n",
       "          'On': 34,\n",
       "          'matters': 3,\n",
       "          ':': 149,\n",
       "          '(': 168,\n",
       "          ')': 171,\n",
       "          'Four': 9,\n",
       "          'additional': 14,\n",
       "          'employed': 5,\n",
       "          'Jail': 2,\n",
       "          'doctor': 3,\n",
       "          'medical': 18,\n",
       "          'intern': 1,\n",
       "          'extern': 1,\n",
       "          'night': 64,\n",
       "          'weekend': 12,\n",
       "          'duty': 2,\n",
       "          '2': 33,\n",
       "          'work': 66,\n",
       "          'officials': 12,\n",
       "          'pass': 15,\n",
       "          'legislation': 14,\n",
       "          'permit': 6,\n",
       "          'establishment': 7,\n",
       "          'fair': 10,\n",
       "          'equitable': 1,\n",
       "          'pension': 5,\n",
       "          'plan': 45,\n",
       "          'employes': 9,\n",
       "          'praised': 3,\n",
       "          'operation': 15,\n",
       "          'Police': 9,\n",
       "          'Tax': 5,\n",
       "          \"Commissioner's\": 1,\n",
       "          'Office': 4,\n",
       "          'Bellwood': 1,\n",
       "          'Alpharetta': 1,\n",
       "          'prison': 7,\n",
       "          'farms': 3,\n",
       "          'Grady': 5,\n",
       "          'Hospital': 21,\n",
       "          'Health': 5,\n",
       "          'Mayor': 17,\n",
       "          'William': 36,\n",
       "          'B.': 31,\n",
       "          'Hartsfield': 5,\n",
       "          'filed': 7,\n",
       "          'suit': 6,\n",
       "          'divorce': 3,\n",
       "          'his': 399,\n",
       "          'wife': 35,\n",
       "          'Pearl': 1,\n",
       "          'Williams': 14,\n",
       "          'His': 29,\n",
       "          'petition': 6,\n",
       "          'mental': 1,\n",
       "          'cruelty': 1,\n",
       "          'couple': 13,\n",
       "          'married': 8,\n",
       "          'Aug.': 8,\n",
       "          '1913': 2,\n",
       "          'They': 62,\n",
       "          'son': 22,\n",
       "          'Berry': 5,\n",
       "          'daughter': 26,\n",
       "          'Mrs.': 253,\n",
       "          'J.': 42,\n",
       "          'M.': 22,\n",
       "          'Cheshire': 1,\n",
       "          'Griffin': 2,\n",
       "          'Attorneys': 2,\n",
       "          'mayor': 2,\n",
       "          'amicable': 1,\n",
       "          'property': 16,\n",
       "          'settlement': 3,\n",
       "          'agreed': 15,\n",
       "          'upon': 23,\n",
       "          'listed': 10,\n",
       "          \"mayor's\": 4,\n",
       "          'occupation': 4,\n",
       "          'attorney': 17,\n",
       "          'age': 11,\n",
       "          '71': 4,\n",
       "          \"wife's\": 1,\n",
       "          '74': 3,\n",
       "          'birth': 5,\n",
       "          'Opelika': 1,\n",
       "          'Ala.': 7,\n",
       "          'lived': 3,\n",
       "          'together': 27,\n",
       "          'man': 72,\n",
       "          'more': 171,\n",
       "          'than': 138,\n",
       "          'year': 138,\n",
       "          'home': 127,\n",
       "          '637': 1,\n",
       "          'E.': 34,\n",
       "          'Pelham': 5,\n",
       "          'Rd.': 3,\n",
       "          'Aj': 14,\n",
       "          'Henry': 18,\n",
       "          'L.': 25,\n",
       "          'Bowden': 2,\n",
       "          'brief': 2,\n",
       "          'interlude': 1,\n",
       "          'since': 61,\n",
       "          '1937': 2,\n",
       "          'career': 10,\n",
       "          'goes': 5,\n",
       "          'back': 69,\n",
       "          'council': 19,\n",
       "          '1923': 2,\n",
       "          'present': 30,\n",
       "          'office': 24,\n",
       "          'expires': 1,\n",
       "          'He': 191,\n",
       "          'succeeded': 3,\n",
       "          'who': 268,\n",
       "          'became': 20,\n",
       "          'candidate': 17,\n",
       "          'Sept.': 6,\n",
       "          '13': 16,\n",
       "          'after': 127,\n",
       "          'announced': 37,\n",
       "          'he': 451,\n",
       "          'would': 244,\n",
       "          'run': 35,\n",
       "          'reelection': 1,\n",
       "          'Georgia': 18,\n",
       "          'Republicans': 15,\n",
       "          'getting': 17,\n",
       "          'strong': 13,\n",
       "          'encouragement': 5,\n",
       "          'enter': 5,\n",
       "          '1962': 5,\n",
       "          \"governor's\": 4,\n",
       "          'race': 20,\n",
       "          'top': 34,\n",
       "          'official': 16,\n",
       "          'Wednesday': 22,\n",
       "          'Robert': 28,\n",
       "          'Snodgrass': 1,\n",
       "          'GOP': 5,\n",
       "          'chairman': 35,\n",
       "          'meeting': 62,\n",
       "          'held': 41,\n",
       "          'Tuesday': 43,\n",
       "          'Blue': 11,\n",
       "          'Ridge': 3,\n",
       "          'brought': 21,\n",
       "          'enthusiastic': 3,\n",
       "          'responses': 1,\n",
       "          'audience': 12,\n",
       "          'Party': 9,\n",
       "          'Chairman': 8,\n",
       "          'James': 37,\n",
       "          'W.': 38,\n",
       "          'Dorsey': 1,\n",
       "          'enthusiasm': 3,\n",
       "          'picking': 1,\n",
       "          'up': 168,\n",
       "          'rally': 3,\n",
       "          '8': 22,\n",
       "          'Savannah': 1,\n",
       "          'newly': 6,\n",
       "          'Texas': 48,\n",
       "          'Sen.': 18,\n",
       "          'John': 65,\n",
       "          'Tower': 1,\n",
       "          'featured': 3,\n",
       "          'speaker': 4,\n",
       "          'In': 127,\n",
       "          'warned': 2,\n",
       "          'entering': 5,\n",
       "          'governor': 13,\n",
       "          'force': 7,\n",
       "          'petitions': 6,\n",
       "          'out': 161,\n",
       "          'voting': 7,\n",
       "          'precincts': 4,\n",
       "          'obtain': 8,\n",
       "          'signatures': 5,\n",
       "          'registered': 2,\n",
       "          'Despite': 5,\n",
       "          'warning': 4,\n",
       "          'unanimous': 2,\n",
       "          'vote': 28,\n",
       "          'according': 23,\n",
       "          'attended': 10,\n",
       "          'When': 41,\n",
       "          'crowd': 8,\n",
       "          'asked': 34,\n",
       "          'whether': 18,\n",
       "          'wanted': 20,\n",
       "          'wait': 4,\n",
       "          'make': 43,\n",
       "          'voted': 9,\n",
       "          '--': 300,\n",
       "          'were': 252,\n",
       "          'dissents': 1,\n",
       "          'largest': 10,\n",
       "          'hurdle': 1,\n",
       "          'face': 19,\n",
       "          'says': 28,\n",
       "          'before': 86,\n",
       "          'making': 25,\n",
       "          'first': 143,\n",
       "          'alternative': 4,\n",
       "          'courses': 5,\n",
       "          'must': 50,\n",
       "          'taken': 30,\n",
       "          'Five': 4,\n",
       "          'per': 61,\n",
       "          'cent': 51,\n",
       "          'each': 61,\n",
       "          'county': 26,\n",
       "          'sign': 9,\n",
       "          'requesting': 1,\n",
       "          'allowed': 8,\n",
       "          'names': 6,\n",
       "          'candidates': 10,\n",
       "          'ballot': 8,\n",
       "          'hold': 10,\n",
       "          'unit': 10,\n",
       "          'system': 47,\n",
       "          'party': 34,\n",
       "          'opposes': 2,\n",
       "          'platform': 2,\n",
       "          'Sam': 13,\n",
       "          'Caldwell': 2,\n",
       "          'Highway': 6,\n",
       "          'public': 51,\n",
       "          'relations': 16,\n",
       "          'director': 30,\n",
       "          'resigned': 5,\n",
       "          'Lt.': 1,\n",
       "          'Gov.': 10,\n",
       "          'Garland': 3,\n",
       "          \"Byrd's\": 1,\n",
       "          'campaign': 17,\n",
       "          \"Caldwell's\": 1,\n",
       "          'resignation': 4,\n",
       "          'expected': 40,\n",
       "          'time': 97,\n",
       "          'Rob': 1,\n",
       "          'Ledford': 1,\n",
       "          'Gainesville': 1,\n",
       "          'assistant': 10,\n",
       "          'three': 97,\n",
       "          'years': 102,\n",
       "          'gubernatorial': 6,\n",
       "          'starts': 9,\n",
       "          'become': 23,\n",
       "          'coordinator': 5,\n",
       "          'Byrd': 1,\n",
       "          'wind': 4,\n",
       "          '1961': 42,\n",
       "          'session': 37,\n",
       "          'Monday': 54,\n",
       "          'head': 24,\n",
       "          'where': 58,\n",
       "          'highway': 7,\n",
       "          'bond': 11,\n",
       "          'approved': 8,\n",
       "          'shortly': 5,\n",
       "          'Before': 7,\n",
       "          'adjournment': 2,\n",
       "          'afternoon': 19,\n",
       "          'Senate': 32,\n",
       "          'approve': 2,\n",
       "          'study': 13,\n",
       "          'allotted': 2,\n",
       "          'rural': 9,\n",
       "          'urban': 4,\n",
       "          'areas': 12,\n",
       "          'determine': 3,\n",
       "          'what': 76,\n",
       "          'adjustments': 2,\n",
       "          'made': 107,\n",
       "          'Vandiver': 4,\n",
       "          'traditional': 8,\n",
       "          'visit': 6,\n",
       "          'chambers': 2,\n",
       "          'toward': 23,\n",
       "          'likely': 7,\n",
       "          'mention': 6,\n",
       "          '$100': 7,\n",
       "          'million': 45,\n",
       "          'issue': 30,\n",
       "          'earlier': 24,\n",
       "          'priority': 4,\n",
       "          'item': 1,\n",
       "          'Construction': 2,\n",
       "          'bonds': 29,\n",
       "          'Meanwhile': 4,\n",
       "          'learned': 7,\n",
       "          'very': 33,\n",
       "          'near': 16,\n",
       "          'being': 56,\n",
       "          'ready': 12,\n",
       "          '$30': 1,\n",
       "          'worth': 15,\n",
       "          'reconstruction': 1,\n",
       "          'go': 41,\n",
       "          'courts': 6,\n",
       "          'friendly': 3,\n",
       "          'test': 15,\n",
       "          'validity': 1,\n",
       "          'then': 56,\n",
       "          'sales': 51,\n",
       "          'begin': 10,\n",
       "          'contracts': 4,\n",
       "          'let': 10,\n",
       "          'repair': 2,\n",
       "          'most': 74,\n",
       "          'heavily': 5,\n",
       "          'traveled': 2,\n",
       "          'highways': 3,\n",
       "          'A': 137,\n",
       "          'source': 7,\n",
       "          '$3': 1,\n",
       "          '$4': 1,\n",
       "          'Rural': 2,\n",
       "          'Roads': 2,\n",
       "          'Authority': 4,\n",
       "          'road': 12,\n",
       "          'construction': 14,\n",
       "          'revolving': 3,\n",
       "          'fund': 12,\n",
       "          'department': 12,\n",
       "          'apparently': 12,\n",
       "          'intends': 1,\n",
       "          'issued': 8,\n",
       "          'every': 25,\n",
       "          'old': 23,\n",
       "          'ones': 8,\n",
       "          'paid': 25,\n",
       "          'off': 73,\n",
       "          'tax': 53,\n",
       "          'authorities': 7,\n",
       "          'opened': 9,\n",
       "          '1958': 19,\n",
       "          'battle': 15,\n",
       "          'against': 78,\n",
       "          'issuance': 2,\n",
       "          '$50': 2,\n",
       "          'roads': 10,\n",
       "          'Marvin': 2,\n",
       "          'told': 53,\n",
       "          'Constitution': 4,\n",
       "          'however': 37,\n",
       "          'consulted': 4,\n",
       "          'yet': 10,\n",
       "          'about': 136,\n",
       "          'plans': 22,\n",
       "          'Schley': 1,\n",
       "          'Rep.': 10,\n",
       "          'D.': 24,\n",
       "          'offer': 9,\n",
       "          'resolution': 21,\n",
       "          'House': 71,\n",
       "          'rescind': 2,\n",
       "          \"body's\": 1,\n",
       "          'action': 20,\n",
       "          'itself': 10,\n",
       "          '$10': 3,\n",
       "          'day': 61,\n",
       "          'increase': 24,\n",
       "          'expense': 7,\n",
       "          'allowances': 3,\n",
       "          'Sunday': 51,\n",
       "          'research': 15,\n",
       "          'done': 24,\n",
       "          'quickie': 1,\n",
       "          'can': 93,\n",
       "          'repealed': 1,\n",
       "          'outright': 3,\n",
       "          'notice': 5,\n",
       "          'given': 37,\n",
       "          'reconsideration': 2,\n",
       "          'sought': 6,\n",
       "          'While': 12,\n",
       "          'emphasizing': 1,\n",
       "          'technical': 7,\n",
       "          'details': 3,\n",
       "          'fully': 6,\n",
       "          'worked': 12,\n",
       "          'seek': 12,\n",
       "          'set': 51,\n",
       "          'aside': 5,\n",
       "          'privilege': 3,\n",
       "          '87-31': 1,\n",
       "          'similar': 17,\n",
       "          'passed': 18,\n",
       "          '29-5': 1,\n",
       "          'As': 36,\n",
       "          'word': 14,\n",
       "          'offered': 11,\n",
       "          'pointed': 9,\n",
       "          'last': 161,\n",
       "          'November': 10,\n",
       "          'rejected': 8,\n",
       "          'constitutional': 8,\n",
       "          'amendment': 5,\n",
       "          'allow': 5,\n",
       "          'pay': 33,\n",
       "          'raises': 3,\n",
       "          'sessions': 6,\n",
       "          'veteran': 11,\n",
       "          'Jackson': 5,\n",
       "          'legislator': 2,\n",
       "          'ask': 7,\n",
       "          'aid': 25,\n",
       "          'education': 31,\n",
       "          'something': 14,\n",
       "          'consistently': 1,\n",
       "          'opposed': 9,\n",
       "          'past': 35,\n",
       "          'Mac': 1,\n",
       "          'Barber': 5,\n",
       "          'Commerce': 7,\n",
       "          'asking': 5,\n",
       "          'endorse': 3,\n",
       "          'increased': 10,\n",
       "          'support': 24,\n",
       "          'provided': 8,\n",
       "          'expended': 1,\n",
       "          '13th': 5,\n",
       "          'members': 69,\n",
       "          'congressional': 6,\n",
       "          'delegation': 3,\n",
       "          'Washington': 48,\n",
       "          'like': 46,\n",
       "          'see': 38,\n",
       "          'But': 109,\n",
       "          'congressmen': 3,\n",
       "          'specifically': 1,\n",
       "          'him': 93,\n",
       "          'tossed': 1,\n",
       "          'hopper': 1,\n",
       "          'formally': 7,\n",
       "          'read': 13,\n",
       "          'event': 15,\n",
       "          'Congress': 21,\n",
       "          'does': 26,\n",
       "          'Board': 17,\n",
       "          'Education': 15,\n",
       "          'directed': 8,\n",
       "          'give': 32,\n",
       "          'teacher': 9,\n",
       "          'Colquitt': 2,\n",
       "          'After': 24,\n",
       "          'long': 39,\n",
       "          'hot': 9,\n",
       "          'controversy': 5,\n",
       "          'Miller': 3,\n",
       "          'school': 65,\n",
       "          'superintendent': 9,\n",
       "          'policeman': 2,\n",
       "          'put': 27,\n",
       "          'coolest': 2,\n",
       "          'I': 179,\n",
       "          'ever': 32,\n",
       "          'saw': 17,\n",
       "          'Harry': 10,\n",
       "          'Davis': 13,\n",
       "          'agriculture': 2,\n",
       "          'defeated': 5,\n",
       "          'Felix': 2,\n",
       "          'Bush': 3,\n",
       "          'principal': 9,\n",
       "          'Democratic': 37,\n",
       "          '1,119': 1,\n",
       "          'votes': 7,\n",
       "          \"Saturday's\": 2,\n",
       "          'got': 45,\n",
       "          '402': 1,\n",
       "          'Ordinary': 2,\n",
       "          'Carey': 5,\n",
       "          'armed': 7,\n",
       "          'pistol': 3,\n",
       "          'stood': 4,\n",
       "          'polls': 3,\n",
       "          'insure': 2,\n",
       "          'order': 19,\n",
       "          'calmest': 1,\n",
       "          'Policeman': 1,\n",
       "          'Tom': 6,\n",
       "          'Being': 1,\n",
       "          'just': 42,\n",
       "          'church': 16,\n",
       "          \"didn't\": 15,\n",
       "          'smell': 2,\n",
       "          'drop': 6,\n",
       "          'liquor': 4,\n",
       "          'bit': 7,\n",
       "          'trouble': 8,\n",
       "          'leading': 11,\n",
       "          'quiet': 5,\n",
       "          'marked': 4,\n",
       "          'anonymous': 4,\n",
       "          'midnight': 4,\n",
       "          'phone': 5,\n",
       "          'calls': 13,\n",
       "          'veiled': 3,\n",
       "          'threats': 1,\n",
       "          'violence': 3,\n",
       "          'former': 27,\n",
       "          'George': 23,\n",
       "          'P.': 18,\n",
       "          'Callan': 1,\n",
       "          'shot': 14,\n",
       "          'himself': 21,\n",
       "          'death': 10,\n",
       "          'March': 36,\n",
       "          '18': 20,\n",
       "          'four': 73,\n",
       "          'days': 38,\n",
       "          'post': 10,\n",
       "          'dispute': 2,\n",
       "          'board': 47,\n",
       "          'During': 5,\n",
       "          'reportedly': 4,\n",
       "          'telephone': 8,\n",
       "          'too': 37,\n",
       "          'subjected': 2,\n",
       "          'soon': 15,\n",
       "          'scheduled': 14,\n",
       "          'Many': 12,\n",
       "          'local': 39,\n",
       "          'feared': 1,\n",
       "          'carry': 11,\n",
       "          'gun': 2,\n",
       "          'promised': 4,\n",
       "          'Sheriff': 2,\n",
       "          'Tabb': 1,\n",
       "          'ordinary': 7,\n",
       "          'good': 50,\n",
       "          'promise': 3,\n",
       "          'Everything': 1,\n",
       "          'went': 37,\n",
       "          'real': 24,\n",
       "          'smooth': 1,\n",
       "          'sheriff': 3,\n",
       "          'There': 58,\n",
       "          \"wasn't\": 3,\n",
       "          'Austin': 15,\n",
       "          'approval': 8,\n",
       "          'Price': 3,\n",
       "          \"Daniel's\": 1,\n",
       "          'abandoned': 3,\n",
       "          'seemed': 12,\n",
       "          'certain': 18,\n",
       "          'Thursday': 20,\n",
       "          'despite': 11,\n",
       "          'adamant': 2,\n",
       "          'protests': 1,\n",
       "          'bankers': 8,\n",
       "          'Daniel': 5,\n",
       "          'personally': 3,\n",
       "          'led': 17,\n",
       "          'fight': 14,\n",
       "          'measure': 13,\n",
       "          'watered': 1,\n",
       "          'down': 50,\n",
       "          'considerably': 5,\n",
       "          'rejection': 3,\n",
       "          'Legislatures': 1,\n",
       "          'hearing': 14,\n",
       "          'Revenue': 5,\n",
       "          'Taxation': 1,\n",
       "          'Under': 8,\n",
       "          'rules': 11,\n",
       "          'automatically': 3,\n",
       "          'subcommittee': 1,\n",
       "          'week': 86,\n",
       "          'questions': 8,\n",
       "          'taunted': 1,\n",
       "          'appearing': 1,\n",
       "          'witnesses': 7,\n",
       "          'left': 39,\n",
       "          'little': 35,\n",
       "          'doubt': 6,\n",
       "          'recommend': 4,\n",
       "          'passage': 3,\n",
       "          'termed': 4,\n",
       "          'extremely': 2,\n",
       "          'conservative': 5,\n",
       "          'estimate': 3,\n",
       "          'produce': 7,\n",
       "          '17': 14,\n",
       "          'dollars': 15,\n",
       "          'help': 30,\n",
       "          'erase': 1,\n",
       "          'anticipated': 4,\n",
       "          'deficit': 1,\n",
       "          '63': 1,\n",
       "          'current': 13,\n",
       "          'fiscal': 5,\n",
       "          '31': 6,\n",
       "          'merely': 15,\n",
       "          'means': 18,\n",
       "          'enforcing': 1,\n",
       "          'escheat': 2,\n",
       "          'books': 12,\n",
       "          'republic': 1,\n",
       "          'permits': 4,\n",
       "          'over': 115,\n",
       "          'bank': 11,\n",
       "          'accounts': 2,\n",
       "          'stocks': 10,\n",
       "          'personal': 12,\n",
       "          'persons': 24,\n",
       "          'missing': 3,\n",
       "          'seven': 16,\n",
       "          'bill': 45,\n",
       "          'drafted': 1,\n",
       "          'banks': 4,\n",
       "          'insurance': 4,\n",
       "          'firms': 15,\n",
       "          'pipeline': 2,\n",
       "          'companies': 18,\n",
       "          'corporations': 2,\n",
       "          'report': 25,\n",
       "          'treasurer': 6,\n",
       "          'cannot': 15,\n",
       "          'enforced': 3,\n",
       "          'now': 76,\n",
       "          'because': 51,\n",
       "          'almost': 24,\n",
       "          'impossible': 4,\n",
       "          'locate': 1,\n",
       "          'declared': 15,\n",
       "          'Dewey': 1,\n",
       "          'Lawrence': 12,\n",
       "          'Tyler': 2,\n",
       "          'lawyer': 9,\n",
       "          'representing': 8,\n",
       "          'Bankers': 3,\n",
       "          'sounded': 1,\n",
       "          'opposition': 8,\n",
       "          'keynote': 3,\n",
       "          'violate': 2,\n",
       "          'their': 219,\n",
       "          'contractual': 1,\n",
       "          'obligations': 4,\n",
       "          'depositors': 1,\n",
       "          'undermine': 1,\n",
       "          'confidence': 6,\n",
       "          'customers': 7,\n",
       "          'If': 29,\n",
       "          'you': 55,\n",
       "          'destroy': 5,\n",
       "          'economy': 9,\n",
       "          'You': 11,\n",
       "          'circulation': 2,\n",
       "          'millions': 9,\n",
       "          'Charles': 22,\n",
       "          'Hughes': 22,\n",
       "          'Sherman': 9,\n",
       "          'sponsor': 4,\n",
       "          'failure': 5,\n",
       "          'enact': 1,\n",
       "          'amount': 18,\n",
       "          'gift': 5,\n",
       "          \"taxpayers'\": 2,\n",
       "          'pockets': 2,\n",
       "          'contention': 2,\n",
       "          'denied': 5,\n",
       "          'several': 34,\n",
       "          'including': 25,\n",
       "          'Scott': 3,\n",
       "          'Hudson': 2,\n",
       "          'Gaynor': 1,\n",
       "          'Jones': 22,\n",
       "          'Houston': 15,\n",
       "          'Brady': 1,\n",
       "          'Harlingen': 1,\n",
       "          'Howard': 13,\n",
       "          'Cox': 4,\n",
       "          'argued': 7,\n",
       "          'probably': 19,\n",
       "          'unconstitutional': 1,\n",
       "          'impair': 1,\n",
       "          'complained': 4,\n",
       "          'enough': 27,\n",
       "          'introduced': 10,\n",
       "          'only': 103,\n",
       "          'Senators': 4,\n",
       "          'unanimously': 2,\n",
       "          'Parkhouse': 5,\n",
       "          'Dallas': 49,\n",
       "          'authorizing': 2,\n",
       "          'schools': 37,\n",
       "          'deaf': 5,\n",
       "          'designed': 16,\n",
       "          'special': 41,\n",
       "          'schooling': 2,\n",
       "          ...})"
      ]
     },
     "execution_count": 23,
     "metadata": {},
     "output_type": "execute_result"
    }
   ],
   "source": [
    "cfd['news']"
   ]
  },
  {
   "cell_type": "code",
   "execution_count": 24,
   "metadata": {
    "collapsed": false
   },
   "outputs": [
    {
     "data": {
      "text/plain": [
       "193"
      ]
     },
     "execution_count": 24,
     "metadata": {},
     "output_type": "execute_result"
    }
   ],
   "source": [
    "cfd['romance']['could']"
   ]
  },
  {
   "cell_type": "code",
   "execution_count": 25,
   "metadata": {
    "collapsed": true
   },
   "outputs": [],
   "source": [
    "genres=['news','religion','hobbies','science_fiction','romance','humor']"
   ]
  },
  {
   "cell_type": "code",
   "execution_count": 26,
   "metadata": {
    "collapsed": true
   },
   "outputs": [],
   "source": [
    "modals=['can','could','may','might','must','will']"
   ]
  },
  {
   "cell_type": "code",
   "execution_count": 27,
   "metadata": {
    "collapsed": false
   },
   "outputs": [
    {
     "name": "stdout",
     "output_type": "stream",
     "text": [
      "                  can could   may might  must  will \n",
      "           news    93    86    66    38    50   389 \n",
      "       religion    82    59    78    12    54    71 \n",
      "        hobbies   268    58   131    22    83   264 \n",
      "science_fiction    16    49     4    12     8    16 \n",
      "        romance    74   193    11    51    45    43 \n",
      "          humor    16    30     8     8     9    13 \n"
     ]
    }
   ],
   "source": [
    "cfd.tabulate(conditions=genres,samples=modals)"
   ]
  },
  {
   "cell_type": "markdown",
   "metadata": {},
   "source": [
    "### Most ambiguous word"
   ]
  },
  {
   "cell_type": "code",
   "execution_count": 28,
   "metadata": {
    "collapsed": false
   },
   "outputs": [],
   "source": [
    "cfd = nltk.ConditionalFreqDist(brown.tagged_words())"
   ]
  },
  {
   "cell_type": "code",
   "execution_count": 29,
   "metadata": {
    "collapsed": false
   },
   "outputs": [
    {
     "data": {
      "text/plain": [
       "['that', 'A', 'in', 'to', ':', 'a', 'for', 'it', 'well', 'as']"
      ]
     },
     "execution_count": 29,
     "metadata": {},
     "output_type": "execute_result"
    }
   ],
   "source": [
    "sorted(cfd.conditions(),key=lambda x: len(cfd[x]),reverse=True)[:10]"
   ]
  },
  {
   "cell_type": "markdown",
   "metadata": {},
   "source": [
    "### PoS with largest number of distinct words"
   ]
  },
  {
   "cell_type": "code",
   "execution_count": 30,
   "metadata": {
    "collapsed": false
   },
   "outputs": [],
   "source": [
    " cfd2 = nltk.ConditionalFreqDist((tag,w) for (w,tag) in brown.tagged_words())"
   ]
  },
  {
   "cell_type": "code",
   "execution_count": 31,
   "metadata": {
    "collapsed": false
   },
   "outputs": [
    {
     "data": {
      "text/plain": [
       "['NN', 'JJ', 'NP', 'NNS', 'VBN', 'VBG', 'VB', 'VBD', 'RB', 'NN-TL']"
      ]
     },
     "execution_count": 31,
     "metadata": {},
     "output_type": "execute_result"
    }
   ],
   "source": [
    "sorted(cfd2.conditions(),key=lambda x: len(cfd2[x]),reverse=True)[:10]"
   ]
  },
  {
   "cell_type": "markdown",
   "metadata": {},
   "source": [
    "### Most frequent word following 'the'"
   ]
  },
  {
   "cell_type": "code",
   "execution_count": 32,
   "metadata": {
    "collapsed": true
   },
   "outputs": [],
   "source": [
    "cfd3 = nltk.ConditionalFreqDist(nltk.bigrams(brown.words()))"
   ]
  },
  {
   "cell_type": "code",
   "execution_count": 33,
   "metadata": {
    "collapsed": false
   },
   "outputs": [
    {
     "data": {
      "text/plain": [
       "'same'"
      ]
     },
     "execution_count": 33,
     "metadata": {},
     "output_type": "execute_result"
    }
   ],
   "source": [
    "cfd3['the'].max()"
   ]
  },
  {
   "cell_type": "code",
   "execution_count": 34,
   "metadata": {
    "collapsed": false
   },
   "outputs": [
    {
     "data": {
      "text/plain": [
       "'few'"
      ]
     },
     "execution_count": 34,
     "metadata": {},
     "output_type": "execute_result"
    }
   ],
   "source": [
    "cfd3['a'].max()"
   ]
  },
  {
   "cell_type": "markdown",
   "metadata": {},
   "source": [
    "### Generate most likely sequence of words"
   ]
  },
  {
   "cell_type": "code",
   "execution_count": 35,
   "metadata": {
    "collapsed": false
   },
   "outputs": [
    {
     "name": "stdout",
     "output_type": "stream",
     "text": [
      "the\n",
      "same\n",
      "time\n",
      ",\n",
      "and\n",
      "the\n",
      "same\n",
      "time\n",
      ",\n",
      "and\n",
      "the\n",
      "same\n",
      "time\n",
      ",\n",
      "and\n",
      "the\n",
      "same\n",
      "time\n",
      ",\n",
      "and\n"
     ]
    }
   ],
   "source": [
    "prev = \"the\"\n",
    "for i in range(20):\n",
    "    print(prev)\n",
    "    prev = cfd3[prev].max()"
   ]
  },
  {
   "cell_type": "markdown",
   "metadata": {},
   "source": [
    "# NLTK's Default Tagger"
   ]
  },
  {
   "cell_type": "code",
   "execution_count": 36,
   "metadata": {
    "collapsed": true
   },
   "outputs": [],
   "source": [
    "dt = nltk.DefaultTagger('NN')"
   ]
  },
  {
   "cell_type": "code",
   "execution_count": 37,
   "metadata": {
    "collapsed": false
   },
   "outputs": [
    {
     "data": {
      "text/plain": [
       "[('This', 'NN'), ('is', 'NN'), ('a', 'NN'), ('test', 'NN')]"
      ]
     },
     "execution_count": 37,
     "metadata": {},
     "output_type": "execute_result"
    }
   ],
   "source": [
    "text = \"This is a test\"\n",
    "dt.tag(nltk.word_tokenize(text))"
   ]
  },
  {
   "cell_type": "code",
   "execution_count": 38,
   "metadata": {
    "collapsed": false
   },
   "outputs": [
    {
     "data": {
      "text/plain": [
       "4623"
      ]
     },
     "execution_count": 38,
     "metadata": {},
     "output_type": "execute_result"
    }
   ],
   "source": [
    "from nltk.corpus import brown\n",
    "brown_tagged_sents = brown.tagged_sents(categories='news')\n",
    "len(brown_tagged_sents)"
   ]
  },
  {
   "cell_type": "code",
   "execution_count": 39,
   "metadata": {
    "collapsed": false
   },
   "outputs": [],
   "source": [
    "brown_tagged_sents_train = brown_tagged_sents[:3000]\n",
    "brown_tagged_sents_test = brown_tagged_sents[3000:]"
   ]
  },
  {
   "cell_type": "code",
   "execution_count": 40,
   "metadata": {
    "collapsed": false
   },
   "outputs": [
    {
     "data": {
      "text/plain": [
       "0.12598841741842076"
      ]
     },
     "execution_count": 40,
     "metadata": {},
     "output_type": "execute_result"
    }
   ],
   "source": [
    "dt.evaluate(brown_tagged_sents_test)"
   ]
  },
  {
   "cell_type": "markdown",
   "metadata": {},
   "source": [
    "# NLTK's Regular Expression Tagger"
   ]
  },
  {
   "cell_type": "code",
   "execution_count": 41,
   "metadata": {
    "collapsed": true
   },
   "outputs": [],
   "source": [
    "import nltk\n",
    "patterns = [\n",
    "       (r'^-?[0-9]+(.[0-9]+)?$', 'CD'), \n",
    "       (r'.*', 'NN')]"
   ]
  },
  {
   "cell_type": "code",
   "execution_count": 42,
   "metadata": {
    "collapsed": false
   },
   "outputs": [
    {
     "data": {
      "text/plain": [
       "[('there', 'NN'), ('are', 'NN'), ('5', 'CD'), ('words', 'NN'), ('here', 'NN')]"
      ]
     },
     "execution_count": 42,
     "metadata": {},
     "output_type": "execute_result"
    }
   ],
   "source": [
    "num_n_tagger = nltk.RegexpTagger(patterns)\n",
    "text = \"there are 5 words here\"\n",
    "num_n_tagger.tag(nltk.word_tokenize(text))"
   ]
  },
  {
   "cell_type": "code",
   "execution_count": 43,
   "metadata": {
    "collapsed": false
   },
   "outputs": [
    {
     "data": {
      "text/plain": [
       "0.1360118053235327"
      ]
     },
     "execution_count": 43,
     "metadata": {},
     "output_type": "execute_result"
    }
   ],
   "source": [
    "num_n_tagger.evaluate(brown_tagged_sents_test)"
   ]
  },
  {
   "cell_type": "markdown",
   "metadata": {},
   "source": [
    "### Using suffix information"
   ]
  },
  {
   "cell_type": "code",
   "execution_count": 44,
   "metadata": {
    "collapsed": true
   },
   "outputs": [],
   "source": [
    "patterns = [\n",
    "        (r'.*ing$', 'VBG'),               # gerunds\n",
    "        (r'.*ed$', 'VBD'),                # simple past\n",
    "        (r'.*es$', 'VBZ'),                # 3rd singular present\n",
    "        (r'^-?[0-9]+(.[0-9]+)?$', 'CD'),  # cardinal numbers\n",
    "        (r'.*', 'NN')                     # nouns (default)\n",
    "    ]"
   ]
  },
  {
   "cell_type": "code",
   "execution_count": 45,
   "metadata": {
    "collapsed": false
   },
   "outputs": [
    {
     "data": {
      "text/plain": [
       "0.15898206927274752"
      ]
     },
     "execution_count": 45,
     "metadata": {},
     "output_type": "execute_result"
    }
   ],
   "source": [
    "regexp_tagger = nltk.RegexpTagger(patterns)\n",
    "regexp_tagger.evaluate(brown_tagged_sents_test)"
   ]
  },
  {
   "cell_type": "markdown",
   "metadata": {},
   "source": [
    "# Lookup Tagger"
   ]
  },
  {
   "cell_type": "code",
   "execution_count": 46,
   "metadata": {
    "collapsed": false
   },
   "outputs": [],
   "source": [
    "brown_tagged_words_train = [tagged_words for sentence in brown_tagged_sents_train for tagged_words in sentence]\n",
    "wordcounts = collections.Counter(w for w,t in brown_tagged_words_train)\n",
    "top100words = [w for w,c in wordcounts.most_common(100)]\n",
    "cfd = nltk.ConditionalFreqDist(brown_tagged_words_train)\n",
    "likely_tags = dict((w,cfd[w].max()) for w in top100words)"
   ]
  },
  {
   "cell_type": "code",
   "execution_count": 47,
   "metadata": {
    "collapsed": false
   },
   "outputs": [
    {
     "data": {
      "text/plain": [
       "'AT'"
      ]
     },
     "execution_count": 47,
     "metadata": {},
     "output_type": "execute_result"
    }
   ],
   "source": [
    "likely_tags['the']"
   ]
  },
  {
   "cell_type": "code",
   "execution_count": 48,
   "metadata": {
    "collapsed": true
   },
   "outputs": [],
   "source": [
    "lookup_tagger = nltk.UnigramTagger(model=likely_tags)"
   ]
  },
  {
   "cell_type": "code",
   "execution_count": 49,
   "metadata": {
    "collapsed": false
   },
   "outputs": [
    {
     "data": {
      "text/plain": [
       "0.4577625570776256"
      ]
     },
     "execution_count": 49,
     "metadata": {},
     "output_type": "execute_result"
    }
   ],
   "source": [
    "lookup_tagger.evaluate(brown_tagged_sents_test)"
   ]
  },
  {
   "cell_type": "code",
   "execution_count": 50,
   "metadata": {
    "collapsed": false
   },
   "outputs": [
    {
     "data": {
      "text/plain": [
       "0.45219530307249606"
      ]
     },
     "execution_count": 50,
     "metadata": {},
     "output_type": "execute_result"
    }
   ],
   "source": [
    "lookup_tagger.evaluate(brown_tagged_sents_train)"
   ]
  },
  {
   "cell_type": "code",
   "execution_count": 51,
   "metadata": {
    "collapsed": false
   },
   "outputs": [
    {
     "data": {
      "text/plain": [
       "[('the', 'AT'), ('good', None), ('test', None)]"
      ]
     },
     "execution_count": 51,
     "metadata": {},
     "output_type": "execute_result"
    }
   ],
   "source": [
    "lookup_tagger.tag(nltk.word_tokenize(\"the good test\"))"
   ]
  },
  {
   "cell_type": "markdown",
   "metadata": {},
   "source": [
    "### Introducing backoff"
   ]
  },
  {
   "cell_type": "code",
   "execution_count": 52,
   "metadata": {
    "collapsed": false
   },
   "outputs": [
    {
     "data": {
      "text/plain": [
       "0.5802427887292572"
      ]
     },
     "execution_count": 52,
     "metadata": {},
     "output_type": "execute_result"
    }
   ],
   "source": [
    "lookup_tagger = nltk.UnigramTagger(model=likely_tags, \n",
    "                                   backoff=nltk.DefaultTagger(\"NN\"))\n",
    "lookup_tagger.evaluate(brown_tagged_sents_test)"
   ]
  },
  {
   "cell_type": "markdown",
   "metadata": {},
   "source": [
    "### How many words do we need?"
   ]
  },
  {
   "cell_type": "code",
   "execution_count": 53,
   "metadata": {
    "collapsed": true
   },
   "outputs": [],
   "source": [
    "def performance(cfd, wordlist):\n",
    "    lt = dict((word, cfd[word].max()) for word in wordlist)\n",
    "    baseline_tagger = nltk.UnigramTagger(model=lt,\n",
    "                                         backoff=nltk.DefaultTagger('NN'))\n",
    "    result = baseline_tagger.evaluate(brown_tagged_sents_test)\n",
    "    print(\"With\", len(wordlist), \"words:\", result)\n",
    "    return result"
   ]
  },
  {
   "cell_type": "code",
   "execution_count": 54,
   "metadata": {
    "collapsed": false
   },
   "outputs": [
    {
     "name": "stdout",
     "output_type": "stream",
     "text": [
      "With 1 words: 0.18334447043100568\n",
      "With 2 words: 0.23532687381668338\n",
      "With 4 words: 0.30170397594386905\n",
      "With 8 words: 0.3742900100233879\n",
      "With 16 words: 0.42939080075732267\n",
      "With 32 words: 0.4840182648401826\n",
      "With 64 words: 0.5481122619445372\n",
      "With 128 words: 0.5894030515647622\n",
      "With 256 words: 0.6290232765341353\n",
      "With 512 words: 0.6662768682481346\n",
      "With 1024 words: 0.7057021940082414\n",
      "With 2048 words: 0.7456565319077848\n",
      "With 4096 words: 0.7790956676690055\n",
      "With 8192 words: 0.8074117385009466\n",
      "With 10724 words: 0.819022162824368\n"
     ]
    }
   ],
   "source": [
    "sizes = [2 ** x for x in range(15)]\n",
    "words_count = collections.Counter(w for w,t in brown_tagged_words_train)\n",
    "\n",
    "def words_by_freq(limit):\n",
    "    return [w for w,c in words_count.most_common(limit)]\n",
    "\n",
    "perfs = [performance(cfd, words_by_freq(size)) for size in sizes]"
   ]
  },
  {
   "cell_type": "code",
   "execution_count": 55,
   "metadata": {
    "collapsed": false
   },
   "outputs": [
    {
     "data": {
      "text/plain": [
       "<matplotlib.text.Text at 0x7f279909b390>"
      ]
     },
     "execution_count": 55,
     "metadata": {},
     "output_type": "execute_result"
    },
    {
     "data": {
      "image/png": "[encoded data removed]",
      "text/plain": [
       "<matplotlib.figure.Figure at 0x7f2799d05b00>"
      ]
     },
     "metadata": {},
     "output_type": "display_data"
    }
   ],
   "source": [
    "%matplotlib inline\n",
    "from matplotlib import pyplot as plt\n",
    "plt.plot(sizes, perfs, '-bo')\n",
    "plt.title('Lookup Tagger Performance with Varying Model Size')\n",
    "plt.xlabel('Model Size')\n",
    "plt.ylabel('Performance')"
   ]
  },
  {
   "cell_type": "markdown",
   "metadata": {},
   "source": [
    "# Unigram Tagger"
   ]
  },
  {
   "cell_type": "code",
   "execution_count": 56,
   "metadata": {
    "collapsed": false
   },
   "outputs": [
    {
     "data": {
      "text/plain": [
       "0.819022162824368"
      ]
     },
     "execution_count": 56,
     "metadata": {},
     "output_type": "execute_result"
    }
   ],
   "source": [
    "unigram_tagger = nltk.UnigramTagger(brown_tagged_sents_train, \n",
    "                                    backoff=nltk.DefaultTagger(\"NN\"))\n",
    "unigram_tagger.evaluate(brown_tagged_sents_test)"
   ]
  },
  {
   "cell_type": "code",
   "execution_count": 57,
   "metadata": {
    "collapsed": false
   },
   "outputs": [
    {
     "data": {
      "text/plain": [
       "0.9362139917695473"
      ]
     },
     "execution_count": 57,
     "metadata": {},
     "output_type": "execute_result"
    }
   ],
   "source": [
    "unigram_tagger.evaluate(brown_tagged_sents_train)"
   ]
  },
  {
   "cell_type": "markdown",
   "metadata": {},
   "source": [
    "# Bigram Tagger"
   ]
  },
  {
   "cell_type": "code",
   "execution_count": 58,
   "metadata": {
    "collapsed": false
   },
   "outputs": [
    {
     "data": {
      "text/plain": [
       "0.0878438578906337"
      ]
     },
     "execution_count": 58,
     "metadata": {},
     "output_type": "execute_result"
    }
   ],
   "source": [
    "bigram_tagger = nltk.BigramTagger(brown_tagged_sents_train)\n",
    "bigram_tagger.evaluate(brown_tagged_sents_test)"
   ]
  },
  {
   "cell_type": "code",
   "execution_count": 59,
   "metadata": {
    "collapsed": false
   },
   "outputs": [
    {
     "data": {
      "text/plain": [
       "0.8047588106067638"
      ]
     },
     "execution_count": 59,
     "metadata": {},
     "output_type": "execute_result"
    }
   ],
   "source": [
    "bigram_tagger.evaluate(brown_tagged_sents_train)"
   ]
  },
  {
   "cell_type": "code",
   "execution_count": 60,
   "metadata": {
    "collapsed": false
   },
   "outputs": [
    {
     "data": {
      "text/plain": [
       "0.6943701971266288"
      ]
     },
     "execution_count": 60,
     "metadata": {},
     "output_type": "execute_result"
    }
   ],
   "source": [
    "bigram_tagger = nltk.BigramTagger(brown_tagged_sents_train,\n",
    "                                 backoff = nltk.DefaultTagger('NN'))\n",
    "bigram_tagger.evaluate(brown_tagged_sents_test)"
   ]
  },
  {
   "cell_type": "code",
   "execution_count": 61,
   "metadata": {
    "collapsed": false
   },
   "outputs": [
    {
     "data": {
      "text/plain": [
       "0.8257601069161377"
      ]
     },
     "execution_count": 61,
     "metadata": {},
     "output_type": "execute_result"
    }
   ],
   "source": [
    "bigram_tagger = nltk.BigramTagger(brown_tagged_sents_train,\n",
    "                                 backoff = unigram_tagger)\n",
    "bigram_tagger.evaluate(brown_tagged_sents_test)"
   ]
  },
  {
   "cell_type": "code",
   "execution_count": null,
   "metadata": {
    "collapsed": true
   },
   "outputs": [],
   "source": []
  }
 ],
 "metadata": {
  "kernelspec": {
   "display_name": "Python 3",
   "language": "python",
   "name": "python3"
  },
  "language_info": {
   "codemirror_mode": {
    "name": "ipython",
    "version": 3
   },
   "file_extension": ".py",
   "mimetype": "text/x-python",
   "name": "python",
   "nbconvert_exporter": "python",
   "pygments_lexer": "ipython3",
   "version": "3.6.0"
  }
 },
 "nbformat": 4,
 "nbformat_minor": 0
}
