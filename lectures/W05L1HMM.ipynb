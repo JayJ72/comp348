{
 "cells": [
  {
   "cell_type": "code",
   "execution_count": 1,
   "metadata": {
    "collapsed": true
   },
   "outputs": [],
   "source": [
    "from nltk.corpus import brown\n",
    "import nltk\n",
    "import random"
   ]
  },
  {
   "cell_type": "code",
   "execution_count": 16,
   "metadata": {
    "collapsed": false
   },
   "outputs": [
    {
     "data": {
      "text/plain": [
       "57340"
      ]
     },
     "execution_count": 16,
     "metadata": {},
     "output_type": "execute_result"
    }
   ],
   "source": [
    "tagged_sents = brown.tagged_sents()\n",
    "len(tagged_sents)"
   ]
  },
  {
   "cell_type": "code",
   "execution_count": 4,
   "metadata": {
    "collapsed": false
   },
   "outputs": [
    {
     "data": {
      "text/plain": [
       "[('The', 'AT'),\n",
       " ('Fulton', 'NP-TL'),\n",
       " ('County', 'NN-TL'),\n",
       " ('Grand', 'JJ-TL'),\n",
       " ('Jury', 'NN-TL'),\n",
       " ('said', 'VBD'),\n",
       " ('Friday', 'NR'),\n",
       " ('an', 'AT'),\n",
       " ('investigation', 'NN'),\n",
       " ('of', 'IN'),\n",
       " (\"Atlanta's\", 'NP$'),\n",
       " ('recent', 'JJ'),\n",
       " ('primary', 'NN'),\n",
       " ('election', 'NN'),\n",
       " ('produced', 'VBD'),\n",
       " ('``', '``'),\n",
       " ('no', 'AT'),\n",
       " ('evidence', 'NN'),\n",
       " (\"''\", \"''\"),\n",
       " ('that', 'CS'),\n",
       " ('any', 'DTI'),\n",
       " ('irregularities', 'NNS'),\n",
       " ('took', 'VBD'),\n",
       " ('place', 'NN'),\n",
       " ('.', '.')]"
      ]
     },
     "execution_count": 4,
     "metadata": {},
     "output_type": "execute_result"
    }
   ],
   "source": [
    "tagged_sents[0]"
   ]
  },
  {
   "cell_type": "code",
   "execution_count": 17,
   "metadata": {
    "collapsed": true
   },
   "outputs": [],
   "source": [
    "train = tagged_sents[0:10000]\n",
    "test = tagged_sents[10000:10200]\n",
    "untagged_test = [nltk.tag.untag(s) for s in test]"
   ]
  },
  {
   "cell_type": "code",
   "execution_count": 18,
   "metadata": {
    "collapsed": true
   },
   "outputs": [],
   "source": [
    "hmm = nltk.tag.HiddenMarkovModelTagger.train(train)"
   ]
  },
  {
   "cell_type": "code",
   "execution_count": 19,
   "metadata": {
    "collapsed": false
   },
   "outputs": [
    {
     "data": {
      "text/plain": [
       "[('``', '``'), ('the', 'AT'), ('cotton', 'NN'), ('of', 'IN'), ('the', 'AT')]"
      ]
     },
     "execution_count": 19,
     "metadata": {},
     "output_type": "execute_result"
    }
   ],
   "source": [
    "hmm.random_sample(random,5)"
   ]
  },
  {
   "cell_type": "code",
   "execution_count": 20,
   "metadata": {
    "collapsed": false
   },
   "outputs": [
    {
     "name": "stdout",
     "output_type": "stream",
     "text": [
      "accuracy over 3659 tokens: 88.90\n"
     ]
    }
   ],
   "source": [
    "hmm.test(test)"
   ]
  },
  {
   "cell_type": "code",
   "execution_count": 21,
   "metadata": {
    "collapsed": false
   },
   "outputs": [
    {
     "data": {
      "text/plain": [
       "[('The', 'AT'),\n",
       " ('importance', 'NN'),\n",
       " ('of', 'IN'),\n",
       " ('this', 'DT'),\n",
       " ('5', 'CD'),\n",
       " ('can', 'MD'),\n",
       " ('largely', 'RB'),\n",
       " ('be', 'BE'),\n",
       " ('explained', 'VBN'),\n",
       " ('by', 'IN'),\n",
       " ('the', 'AT'),\n",
       " ('natural', 'JJ'),\n",
       " ('mathematical', 'JJ'),\n",
       " ('properties', 'NNS'),\n",
       " ('of', 'IN'),\n",
       " ('the', 'AT'),\n",
       " ('middle', 'JJ'),\n",
       " ('number', 'NN'),\n",
       " ('and', 'CC'),\n",
       " ('its', 'PP$'),\n",
       " ('special', 'JJ'),\n",
       " ('relationship', 'NN'),\n",
       " ('to', 'IN'),\n",
       " ('all', 'ABN'),\n",
       " ('the', 'AT'),\n",
       " ('rest', 'NN'),\n",
       " ('of', 'IN'),\n",
       " ('the', 'AT'),\n",
       " ('numbers', 'NNS'),\n",
       " ('--', '--'),\n",
       " ('quite', 'QL'),\n",
       " ('apart', 'RB'),\n",
       " ('from', 'IN'),\n",
       " ('any', 'DTI'),\n",
       " ('numerological', 'AP'),\n",
       " ('considerations', 'NNS'),\n",
       " (',', ','),\n",
       " ('which', 'WDT'),\n",
       " ('is', 'BEZ'),\n",
       " ('to', 'TO'),\n",
       " ('say', 'VB'),\n",
       " (',', ','),\n",
       " ('any', 'DTI'),\n",
       " ('symbolic', 'JJ'),\n",
       " ('meaning', 'NN'),\n",
       " ('arbitrarily', 'BEDZ'),\n",
       " ('assigned', 'VBN'),\n",
       " ('to', 'IN'),\n",
       " ('it', 'PPO'),\n",
       " ('.', '.')]"
      ]
     },
     "execution_count": 21,
     "metadata": {},
     "output_type": "execute_result"
    }
   ],
   "source": [
    "hmm.tag(untagged_test[0])"
   ]
  },
  {
   "cell_type": "code",
   "execution_count": 8,
   "metadata": {
    "collapsed": true
   },
   "outputs": [],
   "source": []
  }
 ],
 "metadata": {
  "kernelspec": {
   "display_name": "Python 3",
   "language": "python",
   "name": "python3"
  },
  "language_info": {
   "codemirror_mode": {
    "name": "ipython",
    "version": 3
   },
   "file_extension": ".py",
   "mimetype": "text/x-python",
   "name": "python",
   "nbconvert_exporter": "python",
   "pygments_lexer": "ipython3",
   "version": "3.4.3+"
  }
 },
 "nbformat": 4,
 "nbformat_minor": 0
}
