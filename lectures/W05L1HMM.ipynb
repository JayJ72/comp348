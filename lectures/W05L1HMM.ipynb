{
 "cells": [
  {
   "cell_type": "code",
   "execution_count": 1,
   "metadata": {
    "collapsed": false
   },
   "outputs": [
    {
     "name": "stdout",
     "output_type": "stream",
     "text": [
      "[nltk_data] Downloading package brown to /root/nltk_data...\n",
      "[nltk_data]   Unzipping corpora/brown.zip.\n"
     ]
    }
   ],
   "source": [
    "import nltk\n",
    "nltk.download(\"brown\")\n",
    "from nltk.corpus import brown\n",
    "import random"
   ]
  },
  {
   "cell_type": "code",
   "execution_count": 11,
   "metadata": {
    "collapsed": false
   },
   "outputs": [
    {
     "name": "stdout",
     "output_type": "stream",
     "text": [
      "[nltk_data] Downloading package universal_tagset to /root/nltk_data...\n",
      "[nltk_data]   Unzipping taggers/universal_tagset.zip.\n"
     ]
    },
    {
     "data": {
      "text/plain": [
       "57340"
      ]
     },
     "execution_count": 11,
     "metadata": {},
     "output_type": "execute_result"
    }
   ],
   "source": [
    "nltk.download(\"universal_tagset\")\n",
    "tagged_sents = list(brown.tagged_sents(tagset=\"universal\"))\n",
    "random.seed(1234)\n",
    "random.shuffle(tagged_sents)\n",
    "len(tagged_sents)"
   ]
  },
  {
   "cell_type": "code",
   "execution_count": 12,
   "metadata": {
    "collapsed": false
   },
   "outputs": [
    {
     "data": {
      "text/plain": [
       "[('Is', 'VERB'),\n",
       " ('nothing', 'NOUN'),\n",
       " ('in', 'ADP'),\n",
       " ('this', 'DET'),\n",
       " ('country', 'NOUN'),\n",
       " ('more', 'ADV'),\n",
       " ('sacred', 'ADJ'),\n",
       " ('than', 'ADP'),\n",
       " ('the', 'DET'),\n",
       " (\"tourists'\", 'NOUN'),\n",
       " ('comfort', 'NOUN'),\n",
       " ('?', '.'),\n",
       " ('?', '.')]"
      ]
     },
     "execution_count": 12,
     "metadata": {},
     "output_type": "execute_result"
    }
   ],
   "source": [
    "tagged_sents[0]"
   ]
  },
  {
   "cell_type": "code",
   "execution_count": 13,
   "metadata": {
    "collapsed": true
   },
   "outputs": [],
   "source": [
    "train = tagged_sents[0:10000]\n",
    "test = tagged_sents[10000:10200]\n",
    "untagged_test = [nltk.tag.untag(s) for s in test]"
   ]
  },
  {
   "cell_type": "code",
   "execution_count": 14,
   "metadata": {
    "collapsed": true
   },
   "outputs": [],
   "source": [
    "hmm = nltk.tag.HiddenMarkovModelTagger.train(train)"
   ]
  },
  {
   "cell_type": "code",
   "execution_count": 15,
   "metadata": {
    "collapsed": false
   },
   "outputs": [
    {
     "data": {
      "text/plain": [
       "[('few', 'ADJ'),\n",
       " ('for', 'ADP'),\n",
       " ('His', 'DET'),\n",
       " ('attractive', 'ADJ'),\n",
       " ('freight', 'NOUN')]"
      ]
     },
     "execution_count": 15,
     "metadata": {},
     "output_type": "execute_result"
    }
   ],
   "source": [
    "hmm.random_sample(random,5)"
   ]
  },
  {
   "cell_type": "code",
   "execution_count": 16,
   "metadata": {
    "collapsed": false
   },
   "outputs": [
    {
     "name": "stdout",
     "output_type": "stream",
     "text": [
      "accuracy over 3950 tokens: 92.68\n"
     ]
    }
   ],
   "source": [
    "hmm.test(test)"
   ]
  },
  {
   "cell_type": "code",
   "execution_count": 17,
   "metadata": {
    "collapsed": false
   },
   "outputs": [
    {
     "data": {
      "text/plain": [
       "[('One', 'NUM'),\n",
       " ('of', 'ADP'),\n",
       " ('its', 'DET'),\n",
       " ('features', 'NOUN'),\n",
       " ('attractive', 'ADJ'),\n",
       " ('to', 'ADP'),\n",
       " ('the', 'DET'),\n",
       " ('West', 'NOUN'),\n",
       " ('is', 'VERB'),\n",
       " ('its', 'DET'),\n",
       " ('irreverence', 'NOUN'),\n",
       " ('for', 'ADP'),\n",
       " ('tradition', 'NOUN'),\n",
       " ('and', 'CONJ'),\n",
       " ('dogma', 'NOUN'),\n",
       " ('and', 'CONJ'),\n",
       " ('for', 'ADP'),\n",
       " ('sacred', 'ADJ'),\n",
       " ('texts', 'NOUN'),\n",
       " ('.', '.')]"
      ]
     },
     "execution_count": 17,
     "metadata": {},
     "output_type": "execute_result"
    }
   ],
   "source": [
    "hmm.tag(untagged_test[0])"
   ]
  },
  {
   "cell_type": "code",
   "execution_count": 8,
   "metadata": {
    "collapsed": true
   },
   "outputs": [],
   "source": []
  }
 ],
 "metadata": {
  "kernelspec": {
   "display_name": "Python 3",
   "language": "python",
   "name": "python3"
  },
  "language_info": {
   "codemirror_mode": {
    "name": "ipython",
    "version": 3
   },
   "file_extension": ".py",
   "mimetype": "text/x-python",
   "name": "python",
   "nbconvert_exporter": "python",
   "pygments_lexer": "ipython3",
   "version": "3.6.0"
  }
 },
 "nbformat": 4,
 "nbformat_minor": 0
}
