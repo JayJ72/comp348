{
 "cells": [
  {
   "cell_type": "markdown",
   "metadata": {},
   "source": [
    "## Gender Classification\n",
    "\n",
    "The following example shows how NLTK uses features for gender classification of names."
   ]
  },
  {
   "cell_type": "code",
   "execution_count": 1,
   "metadata": {
    "collapsed": false
   },
   "outputs": [],
   "source": [
    "import nltk\n",
    "from nltk.corpus import names"
   ]
  },
  {
   "cell_type": "code",
   "execution_count": 2,
   "metadata": {
    "collapsed": false
   },
   "outputs": [
    {
     "data": {
      "text/plain": [
       "2943"
      ]
     },
     "execution_count": 2,
     "metadata": {},
     "output_type": "execute_result"
    }
   ],
   "source": [
    "m = names.words('male.txt')\n",
    "len(m)"
   ]
  },
  {
   "cell_type": "code",
   "execution_count": 3,
   "metadata": {
    "collapsed": false
   },
   "outputs": [
    {
     "data": {
      "text/plain": [
       "5001"
      ]
     },
     "execution_count": 3,
     "metadata": {},
     "output_type": "execute_result"
    }
   ],
   "source": [
    "f = names.words('female.txt')\n",
    "len(f)"
   ]
  },
  {
   "cell_type": "markdown",
   "metadata": {},
   "source": [
    "### Creation of a training set and a test set"
   ]
  },
  {
   "cell_type": "code",
   "execution_count": 4,
   "metadata": {
    "collapsed": false
   },
   "outputs": [
    {
     "name": "stdout",
     "output_type": "stream",
     "text": [
      "Size of training set: 7444\n",
      "[('Ranice', 'female'), ('Faunie', 'female'), ('Holly-Anne', 'female')]\n",
      "Size of test set: 500\n",
      "[('Butler', 'male'), ('Umberto', 'male'), ('Aloysius', 'male')]\n"
     ]
    }
   ],
   "source": [
    "import random\n",
    "random.seed(1234) # It is useful to set the seed to allow replicability\n",
    "names = ([(name,'male') for name in m] +\n",
    "         [(name,'female') for name in f])\n",
    "random.shuffle(names)\n",
    "train_names, test_names = names[500:], names[:500]\n",
    "print(\"Size of training set:\", len(train_names))\n",
    "print(train_names[:3])\n",
    "print(\"Size of test set:\", len(test_names))\n",
    "print(test_names[:3])"
   ]
  },
  {
   "cell_type": "code",
   "execution_count": 5,
   "metadata": {
    "collapsed": false
   },
   "outputs": [
    {
     "name": "stdout",
     "output_type": "stream",
     "text": [
      "Train data\n",
      "Males: 0.368 Females: 0.632\n",
      "Test data\n",
      "Males: 0.400 Females: 0.600\n"
     ]
    }
   ],
   "source": [
    "def ratio_gender(data,gender):\n",
    "    genders = [g for (n,g) in data if g == gender]\n",
    "    return len(genders)/len(data)\n",
    "print(\"Train data\")\n",
    "print(\"Males: %1.3f Females: %1.3f\" % (ratio_gender(train_names,'male'),\n",
    "                                       ratio_gender(train_names,'female')))\n",
    "print(\"Test data\")\n",
    "print(\"Males: %1.3f Females: %1.3f\" % (ratio_gender(test_names,'male'),\n",
    "                                       ratio_gender(test_names,'female')))"
   ]
  },
  {
   "cell_type": "markdown",
   "metadata": {},
   "source": [
    "### Extraction of features"
   ]
  },
  {
   "cell_type": "code",
   "execution_count": 6,
   "metadata": {
    "collapsed": true
   },
   "outputs": [],
   "source": [
    "def gender_features(word):\n",
    "   return {'last_letter': word[-1]}"
   ]
  },
  {
   "cell_type": "code",
   "execution_count": 7,
   "metadata": {
    "collapsed": false
   },
   "outputs": [
    {
     "data": {
      "text/plain": [
       "{'last_letter': 'n'}"
      ]
     },
     "execution_count": 7,
     "metadata": {},
     "output_type": "execute_result"
    }
   ],
   "source": [
    "gender_features('John')"
   ]
  },
  {
   "cell_type": "code",
   "execution_count": 8,
   "metadata": {
    "collapsed": false
   },
   "outputs": [
    {
     "data": {
      "text/plain": [
       "{'last_letter': 'y'}"
      ]
     },
     "execution_count": 8,
     "metadata": {},
     "output_type": "execute_result"
    }
   ],
   "source": [
    "gender_features('Mary')"
   ]
  },
  {
   "cell_type": "code",
   "execution_count": 9,
   "metadata": {
    "collapsed": true
   },
   "outputs": [],
   "source": [
    "train_set = [(gender_features(n),g) for (n,g) in train_names]\n",
    "test_set = [(gender_features(n),g) for (n,g) in test_names]"
   ]
  },
  {
   "cell_type": "markdown",
   "metadata": {},
   "source": [
    "### Training a classifier"
   ]
  },
  {
   "cell_type": "code",
   "execution_count": 10,
   "metadata": {
    "collapsed": true
   },
   "outputs": [],
   "source": [
    "classifier = nltk.NaiveBayesClassifier.train(train_set)"
   ]
  },
  {
   "cell_type": "markdown",
   "metadata": {},
   "source": [
    "### Testing the classifier"
   ]
  },
  {
   "cell_type": "code",
   "execution_count": 11,
   "metadata": {
    "collapsed": false
   },
   "outputs": [
    {
     "data": {
      "text/plain": [
       "'male'"
      ]
     },
     "execution_count": 11,
     "metadata": {},
     "output_type": "execute_result"
    }
   ],
   "source": [
    "classifier.classify(gender_features('Neo'))"
   ]
  },
  {
   "cell_type": "code",
   "execution_count": 12,
   "metadata": {
    "collapsed": false
   },
   "outputs": [
    {
     "data": {
      "text/plain": [
       "'female'"
      ]
     },
     "execution_count": 12,
     "metadata": {},
     "output_type": "execute_result"
    }
   ],
   "source": [
    "classifier.classify(gender_features('Trinity'))"
   ]
  },
  {
   "cell_type": "code",
   "execution_count": 13,
   "metadata": {
    "collapsed": false
   },
   "outputs": [
    {
     "data": {
      "text/plain": [
       "0.776"
      ]
     },
     "execution_count": 13,
     "metadata": {},
     "output_type": "execute_result"
    }
   ],
   "source": [
    "nltk.classify.accuracy(classifier,test_set)"
   ]
  },
  {
   "cell_type": "markdown",
   "metadata": {},
   "source": [
    "### Error analysis"
   ]
  },
  {
   "cell_type": "code",
   "execution_count": 14,
   "metadata": {
    "collapsed": false
   },
   "outputs": [
    {
     "name": "stdout",
     "output_type": "stream",
     "text": [
      "Accuracy of dev-test set: 0.752\n",
      "Number of errors: 248\n"
     ]
    }
   ],
   "source": [
    "train_names = names[1500:]\n",
    "devtest_names = names[500:1500]\n",
    "test_names = names[:500]\n",
    "train_set = [(gender_features(n),g) for (n,g) in train_names]\n",
    "devtest_set = [(gender_features(n),g) for (n,g) in devtest_names]\n",
    "test_set = [(gender_features(n),g) for (n,g) in test_names]\n",
    "print(\"Accuracy of dev-test set:\", nltk.classify.accuracy(classifier,devtest_set))\n",
    "errors = []\n",
    "for (name,tag) in devtest_names:\n",
    "    guess = classifier.classify(gender_features(name))\n",
    "    if guess != tag:\n",
    "        errors.append((tag,guess,name))\n",
    "print(\"Number of errors:\",len(errors))"
   ]
  },
  {
   "cell_type": "code",
   "execution_count": 15,
   "metadata": {
    "collapsed": false
   },
   "outputs": [
    {
     "name": "stdout",
     "output_type": "stream",
     "text": [
      "correct=female   guess=male     name=Adrien                        \n",
      "correct=female   guess=male     name=Aigneis                       \n",
      "correct=female   guess=male     name=Aileen                        \n",
      "correct=female   guess=male     name=Alisun                        \n",
      "correct=female   guess=male     name=Alys                          \n"
     ]
    }
   ],
   "source": [
    "for (tag,guess,name) in sorted(errors)[:5]:\n",
    "    print(\"correct=%-8s guess=%-8s name=%-30s\" % (tag,guess,name))"
   ]
  },
  {
   "cell_type": "markdown",
   "metadata": {},
   "source": [
    "## A revised gender classifier"
   ]
  },
  {
   "cell_type": "code",
   "execution_count": 22,
   "metadata": {
    "collapsed": false
   },
   "outputs": [
    {
     "data": {
      "text/plain": [
       "0.77"
      ]
     },
     "execution_count": 22,
     "metadata": {},
     "output_type": "execute_result"
    }
   ],
   "source": [
    "def gender_features2(word):\n",
    "       return {'suffix1': word[-1:],\n",
    "               'suffix2': word[-2:]}\n",
    "train_set2=[(gender_features2(n),g) for (n,g) in train_names]\n",
    "devtest_set2=[(gender_features2(n),g) for (n,g) in devtest_names]\n",
    "classifier2=nltk.NaiveBayesClassifier.train(train_set2)\n",
    "nltk.classify.accuracy(classifier2,devtest_set2)"
   ]
  },
  {
   "cell_type": "markdown",
   "metadata": {},
   "source": [
    "## Overfitting"
   ]
  },
  {
   "cell_type": "code",
   "execution_count": 23,
   "metadata": {
    "collapsed": false
   },
   "outputs": [
    {
     "data": {
      "text/plain": [
       "{'count(a)': 0,\n",
       " 'count(b)': 0,\n",
       " 'count(c)': 0,\n",
       " 'count(d)': 0,\n",
       " 'count(e)': 0,\n",
       " 'count(f)': 0,\n",
       " 'count(g)': 0,\n",
       " 'count(h)': 1,\n",
       " 'count(i)': 0,\n",
       " 'count(j)': 1,\n",
       " 'count(k)': 0,\n",
       " 'count(l)': 0,\n",
       " 'count(m)': 0,\n",
       " 'count(n)': 1,\n",
       " 'count(o)': 1,\n",
       " 'count(p)': 0,\n",
       " 'count(q)': 0,\n",
       " 'count(r)': 0,\n",
       " 'count(s)': 0,\n",
       " 'count(t)': 0,\n",
       " 'count(u)': 0,\n",
       " 'count(v)': 0,\n",
       " 'count(w)': 0,\n",
       " 'count(x)': 0,\n",
       " 'count(y)': 0,\n",
       " 'count(z)': 0,\n",
       " 'firstletter': 'j',\n",
       " 'has(a)': False,\n",
       " 'has(b)': False,\n",
       " 'has(c)': False,\n",
       " 'has(d)': False,\n",
       " 'has(e)': False,\n",
       " 'has(f)': False,\n",
       " 'has(g)': False,\n",
       " 'has(h)': True,\n",
       " 'has(i)': False,\n",
       " 'has(j)': True,\n",
       " 'has(k)': False,\n",
       " 'has(l)': False,\n",
       " 'has(m)': False,\n",
       " 'has(n)': True,\n",
       " 'has(o)': True,\n",
       " 'has(p)': False,\n",
       " 'has(q)': False,\n",
       " 'has(r)': False,\n",
       " 'has(s)': False,\n",
       " 'has(t)': False,\n",
       " 'has(u)': False,\n",
       " 'has(v)': False,\n",
       " 'has(w)': False,\n",
       " 'has(x)': False,\n",
       " 'has(y)': False,\n",
       " 'has(z)': False,\n",
       " 'lastletter': 'n'}"
      ]
     },
     "execution_count": 23,
     "metadata": {},
     "output_type": "execute_result"
    }
   ],
   "source": [
    "def gender_features3(name):\n",
    "      features = {}\n",
    "      features['firstletter'] = name[0].lower()\n",
    "      features['lastletter'] = name[-1]\n",
    "      for letter in 'abcdefghijklmnopqrstuvwxyz':\n",
    "         features['count(%s)' % letter] = name.lower().count(letter)\n",
    "         features['has(%s)' % letter] = (letter in name.lower())\n",
    "      return features\n",
    "\n",
    "gender_features3('John')"
   ]
  },
  {
   "cell_type": "code",
   "execution_count": 34,
   "metadata": {
    "collapsed": false
   },
   "outputs": [
    {
     "data": {
      "text/plain": [
       "0.698"
      ]
     },
     "execution_count": 34,
     "metadata": {},
     "output_type": "execute_result"
    }
   ],
   "source": [
    "train_set3 = [(gender_features3(n),g) for (n,g) in train_names]\n",
    "devtest_set3 = [(gender_features3(n),g) for (n,g) in devtest_names]\n",
    "classifier3 = nltk.NaiveBayesClassifier.train(train_set3[:50]) # small training set\n",
    "nltk.classify.accuracy(classifier3,devtest_set3)"
   ]
  },
  {
   "cell_type": "code",
   "execution_count": 32,
   "metadata": {
    "collapsed": false
   },
   "outputs": [
    {
     "data": {
      "text/plain": [
       "0.7"
      ]
     },
     "execution_count": 32,
     "metadata": {},
     "output_type": "execute_result"
    }
   ],
   "source": [
    "classifier2b = nltk.NaiveBayesClassifier.train(train_set2[:50]) # small training set\n",
    "nltk.classify.accuracy(classifier2b,devtest_set2)"
   ]
  },
  {
   "cell_type": "code",
   "execution_count": 36,
   "metadata": {
    "collapsed": false
   },
   "outputs": [
    {
     "data": {
      "text/plain": [
       "0.88"
      ]
     },
     "execution_count": 36,
     "metadata": {},
     "output_type": "execute_result"
    }
   ],
   "source": [
    "nltk.classify.accuracy(classifier3,train_set3[:50])"
   ]
  },
  {
   "cell_type": "code",
   "execution_count": 37,
   "metadata": {
    "collapsed": false
   },
   "outputs": [
    {
     "data": {
      "text/plain": [
       "0.72"
      ]
     },
     "execution_count": 37,
     "metadata": {},
     "output_type": "execute_result"
    }
   ],
   "source": [
    "nltk.classify.accuracy(classifier2b,devtest_set2[:50])"
   ]
  },
  {
   "cell_type": "code",
   "execution_count": 47,
   "metadata": {
    "collapsed": true
   },
   "outputs": [],
   "source": [
    "train_accuracy2 = []\n",
    "devtest_accuracy2 = []\n",
    "train_accuracy3 = []\n",
    "devtest_accuracy3 = []\n",
    "nsamples = range(10,100,10)\n",
    "for n in nsamples:\n",
    "    classifier2c = nltk.NaiveBayesClassifier.train(train_set3[:n])\n",
    "    train_accuracy2.append(nltk.classify.accuracy(classifier2c,train_set2[:n]))\n",
    "    devtest_accuracy2.append(nltk.classify.accuracy(classifier2c,devtest_set2))\n",
    "    classifier3c = nltk.NaiveBayesClassifier.train(train_set3[:n])\n",
    "    train_accuracy3.append(nltk.classify.accuracy(classifier3c,train_set3[:n]))\n",
    "    devtest_accuracy3.append(nltk.classify.accuracy(classifier3c,devtest_set3))"
   ]
  },
  {
   "cell_type": "markdown",
   "metadata": {},
   "source": [
    "### This plot shows that there is no overfitting\n",
    "\n",
    "In this plot there is not much difference between the evaluation of the training set and the test set, except for a very small training size."
   ]
  },
  {
   "cell_type": "code",
   "execution_count": 50,
   "metadata": {
    "collapsed": false
   },
   "outputs": [
    {
     "data": {
      "text/plain": [
       "<matplotlib.legend.Legend at 0x10ce9f160>"
      ]
     },
     "execution_count": 50,
     "metadata": {},
     "output_type": "execute_result"
    },
    {
     "data": {
      "image/png": "[encoded data removed]",
      "text/plain": [
       "<matplotlib.figure.Figure at 0x10caecf60>"
      ]
     },
     "metadata": {},
     "output_type": "display_data"
    }
   ],
   "source": [
    "%matplotlib inline\n",
    "from matplotlib import pyplot as plt\n",
    "plt.plot(nsamples,train_accuracy2,label='Train')\n",
    "plt.plot(nsamples,devtest_accuracy2,label='Devtest')\n",
    "plt.xlabel('Training size')\n",
    "plt.ylabel('Accuracy')\n",
    "plt.title('Classifier 2')\n",
    "plt.legend()"
   ]
  },
  {
   "cell_type": "markdown",
   "metadata": {},
   "source": [
    "### This plot shows that there is overfitting\n",
    "\n",
    "We can observe overfitting when the evaluation on the training set is much better than that on the test set. Overfitting is generally lesser as we increase the size of the training set."
   ]
  },
  {
   "cell_type": "code",
   "execution_count": 51,
   "metadata": {
    "collapsed": false
   },
   "outputs": [
    {
     "data": {
      "text/plain": [
       "<matplotlib.legend.Legend at 0x10e184e10>"
      ]
     },
     "execution_count": 51,
     "metadata": {},
     "output_type": "execute_result"
    },
    {
     "data": {
      "image/png": "[encoded data removed]",
      "text/plain": [
       "<matplotlib.figure.Figure at 0x10e6e02e8>"
      ]
     },
     "metadata": {},
     "output_type": "display_data"
    }
   ],
   "source": [
    "plt.plot(nsamples,train_accuracy3,label='Train')\n",
    "plt.plot(nsamples,devtest_accuracy3,label='Devtest')\n",
    "plt.xlabel('Training size')\n",
    "plt.ylabel('Accuracy')\n",
    "plt.title('Classifier 3')\n",
    "plt.legend()"
   ]
  },
  {
   "cell_type": "markdown",
   "metadata": {},
   "source": [
    "## Gender classifier in Scikit-learn"
   ]
  },
  {
   "cell_type": "code",
   "execution_count": 53,
   "metadata": {
    "collapsed": false
   },
   "outputs": [
    {
     "data": {
      "text/plain": [
       "array(['female', 'female', 'female', 'female', 'female'], \n",
       "      dtype='<U6')"
      ]
     },
     "execution_count": 53,
     "metadata": {},
     "output_type": "execute_result"
    }
   ],
   "source": [
    "from sklearn.naive_bayes import MultinomialNB\n",
    "def gender_features(word):\n",
    "    \"Return the ASCII value of the last two characters\"\n",
    "    return [ord(word[-2]),ord(word[-1])]\n",
    "train_set = [(gender_features(n),g) for (n,g) in train_names]\n",
    "devtest_set = [(gender_features(n),g) for (n,g) in devtest_names]\n",
    "test_set = [(gender_features(n),g) for (n,g) in test_names]\n",
    "train_X,train_y = zip(*train_set)\n",
    "classifier = MultinomialNB()\n",
    "classifier.fit(train_X,train_y)\n",
    "devtest_X,devtest_y = zip(*test_set)\n",
    "classifier.predict(devtest_X[:5])"
   ]
  },
  {
   "cell_type": "code",
   "execution_count": 54,
   "metadata": {
    "collapsed": false
   },
   "outputs": [
    {
     "data": {
      "text/plain": [
       "0.61399999999999999"
      ]
     },
     "execution_count": 54,
     "metadata": {},
     "output_type": "execute_result"
    }
   ],
   "source": [
    "from sklearn.metrics import accuracy_score\n",
    "devtest_predictions = classifier.predict(devtest_X)\n",
    "accuracy_score(devtest_y,devtest_predictions)"
   ]
  },
  {
   "cell_type": "markdown",
   "metadata": {},
   "source": [
    "## PCA in sklearn"
   ]
  },
  {
   "cell_type": "code",
   "execution_count": 1,
   "metadata": {
    "collapsed": false
   },
   "outputs": [
    {
     "data": {
      "text/plain": [
       "(3672, 19892)"
      ]
     },
     "execution_count": 1,
     "metadata": {},
     "output_type": "execute_result"
    }
   ],
   "source": [
    "import glob\n",
    "from sklearn.feature_extraction.text import TfidfVectorizer\n",
    "files = glob.glob('python/enron1/ham/*.txt')\n",
    "tfidf = TfidfVectorizer(input='filename',\n",
    "                        stop_words='english')\n",
    "tfidf_values = tfidf.fit_transform(files)\n",
    "tfidf_values.shape"
   ]
  },
  {
   "cell_type": "markdown",
   "metadata": {},
   "source": [
    "The above code creates a sparse matrix and stores it in `tfidf_values`. Sklearn's PCA does not handle sparse matrices. Instead of converting `tfidf_values` to a dense matrix, we will use TruncatedSVD, which is an estimation of Single Value Decomposition (SVD), a method that is very similar to PCA, and much faster."
   ]
  },
  {
   "cell_type": "code",
   "execution_count": 3,
   "metadata": {
    "collapsed": false
   },
   "outputs": [
    {
     "data": {
      "text/plain": [
       "(3672, 500)"
      ]
     },
     "execution_count": 3,
     "metadata": {},
     "output_type": "execute_result"
    }
   ],
   "source": [
    "from sklearn.decomposition import TruncatedSVD\n",
    "svd = TruncatedSVD(n_components = 500)\n",
    "svd_values = svd.fit_transform(tfidf_values)\n",
    "svd_values.shape"
   ]
  },
  {
   "cell_type": "code",
   "execution_count": null,
   "metadata": {
    "collapsed": true
   },
   "outputs": [],
   "source": []
  }
 ],
 "metadata": {
  "kernelspec": {
   "display_name": "IPython (Python 3)",
   "language": "python",
   "name": "python3"
  },
  "language_info": {
   "codemirror_mode": {
    "name": "ipython",
    "version": 3
   },
   "file_extension": ".py",
   "mimetype": "text/x-python",
   "name": "python",
   "nbconvert_exporter": "python",
   "pygments_lexer": "ipython3",
   "version": "3.4.3+"
  }
 },
 "nbformat": 4,
 "nbformat_minor": 0
}
