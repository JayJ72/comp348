{
 "cells": [
  {
   "cell_type": "markdown",
   "metadata": {},
   "source": [
    "# The Viterbi Algorithm\n",
    "\n",
    "These exercises ask you to perform tasks related to building the tables that are necessary to implement the Viterbi algorithm. Building such tables requires a little of programming effort, so for these exercises we will just focus on some aspects on how to build such tables.\n",
    "\n",
    "For the following exercises, use the training portion of the Brown corpus as defined by the following code:"
   ]
  },
  {
   "cell_type": "code",
   "execution_count": 28,
   "metadata": {
    "collapsed": true
   },
   "outputs": [],
   "source": [
    "import nltk\n",
    "from nltk.corpus import brown\n",
    "import random\n",
    "random.seed(0)\n",
    "tagged_sents = list(brown.tagged_sents())\n",
    "random.shuffle(tagged_sents)\n",
    "train = tagged_sents[:10000]\n",
    "test = tagged_sents[10000:10200]"
   ]
  },
  {
   "cell_type": "markdown",
   "metadata": {},
   "source": [
    "Remember how the training corpus is structured in this corpus: it is a list of training sentences, and each sentence is a list of tagged words. For example, the first sentence of the training set is:"
   ]
  },
  {
   "cell_type": "code",
   "execution_count": 29,
   "metadata": {
    "collapsed": false
   },
   "outputs": [
    {
     "data": {
      "text/plain": [
       "[('Stars', 'NNS-HL'), ('for', 'IN-HL'), ('marriage', 'NN-HL')]"
      ]
     },
     "execution_count": 29,
     "metadata": {},
     "output_type": "execute_result"
    }
   ],
   "source": [
    "train[0]"
   ]
  },
  {
   "cell_type": "markdown",
   "metadata": {},
   "source": [
    "### Exercise: Find all labels and all vocabulary\n",
    "\n",
    "In the next exercises you will do \"add-1\" estimates. For that you will need to determine the vocabulary, the number of distinct labels, the total number of words, and the total number of labels. Using the training data (not the test data!), compute all of this information."
   ]
  },
  {
   "cell_type": "code",
   "execution_count": null,
   "metadata": {
    "collapsed": false
   },
   "outputs": [],
   "source": []
  },
  {
   "cell_type": "markdown",
   "metadata": {},
   "source": [
    "### Exercise: Find all label bigrams\n",
    "\n",
    "For estimate the conditional probability of one label given a previous label you need to consider the beginning and end of sentences. A common approach to do this is to add a new label such as `$` at the beginning and the end of each sentence. In this exercise, generate the label bigrams after padding with the `$` label. For example, if the corpus is the pair of sentences:\n",
    "\n",
    "```\n",
    "[[('my','PRP$'),('sentence','NN')],[('my','PRP$'),('second','OD'),('sentence','NN')]]\n",
    "```\n",
    "\n",
    "Then the label bigrams are:\n",
    "\n",
    "```\n",
    "[('$','PRP$'),('PRP$','NN'),('NN','$'),('$','PRP$),('PRP$','OD'),('OD','NN'),('NN','$')]\n",
    "```"
   ]
  },
  {
   "cell_type": "code",
   "execution_count": null,
   "metadata": {
    "collapsed": false
   },
   "outputs": [],
   "source": []
  },
  {
   "cell_type": "markdown",
   "metadata": {},
   "source": [
    "### Exercise: P(NN)\n",
    "\n",
    "Use \"add-1\" to estimate P(NN), that is, the probability that a token is labelled as a noun."
   ]
  },
  {
   "cell_type": "code",
   "execution_count": null,
   "metadata": {
    "collapsed": false
   },
   "outputs": [],
   "source": []
  },
  {
   "cell_type": "markdown",
   "metadata": {},
   "source": [
    "### Exercise: P(NN|VBZ)\n",
    "\n",
    "Use \"add-1\" to estimate P(NN|AT), that is, the probability that a determiner is followed by a noun."
   ]
  },
  {
   "cell_type": "code",
   "execution_count": null,
   "metadata": {
    "collapsed": false
   },
   "outputs": [],
   "source": []
  },
  {
   "cell_type": "markdown",
   "metadata": {},
   "source": [
    "### Exercise: P(time|NN)\n",
    "\n",
    "Use \"add-1\" to estimate P(time|AT), that is, the probability that a noun is expressed with the word \"time\"."
   ]
  },
  {
   "cell_type": "code",
   "execution_count": null,
   "metadata": {
    "collapsed": false
   },
   "outputs": [],
   "source": []
  },
  {
   "cell_type": "markdown",
   "metadata": {},
   "source": [
    "### Optional Exercise: Spread butter\n",
    "\n",
    "Using the tables of the lecture notes, apply the Viterbi algorithm to determine the best sequence of labels for the sentence \"spread butter\"."
   ]
  },
  {
   "cell_type": "code",
   "execution_count": null,
   "metadata": {
    "collapsed": true
   },
   "outputs": [],
   "source": []
  },
  {
   "cell_type": "markdown",
   "metadata": {},
   "source": [
    "# Embedding Part of Speech Tagging in a Web Application\n",
    "\n",
    "The lecture notes and notebooks show how you can use NLTK to implement a part of speech tagger. In this exercise you will incorporate this information in a web application.\n",
    "\n",
    "The following file is a simple web application that uses [Python's bottle framework](http://bottlepy.org/docs/dev/index.html) and NLTK to present a Web form where a person can input text. When the form is submitted, the application annotates the text with its parts of speech and shows the result to the user.\n",
    "\n",
    "* [pos.py](pos.py)"
   ]
  },
  {
   "cell_type": "markdown",
   "metadata": {},
   "source": [
    "### Exercise: Try out the web application\n",
    "\n",
    "Download the web application and run it on your computer. The terminal console will indicate a URL. Open the URL on a browser and try out the application."
   ]
  },
  {
   "cell_type": "code",
   "execution_count": null,
   "metadata": {
    "collapsed": true
   },
   "outputs": [],
   "source": []
  },
  {
   "cell_type": "markdown",
   "metadata": {},
   "source": [
    "### Exercise: Add your own PoS tagger\n",
    "\n",
    "Replace NLTK's tagger in the web application with your own tagger. Remember that you only need to train the tagger once, and then you can use the trained model each time the user sends text with the form."
   ]
  },
  {
   "cell_type": "code",
   "execution_count": null,
   "metadata": {
    "collapsed": true
   },
   "outputs": [],
   "source": []
  }
 ],
 "metadata": {
  "kernelspec": {
   "display_name": "Python 3",
   "language": "python",
   "name": "python3"
  },
  "language_info": {
   "codemirror_mode": {
    "name": "ipython",
    "version": 3
   },
   "file_extension": ".py",
   "mimetype": "text/x-python",
   "name": "python",
   "nbconvert_exporter": "python",
   "pygments_lexer": "ipython3",
   "version": "3.4.3+"
  }
 },
 "nbformat": 4,
 "nbformat_minor": 0
}
