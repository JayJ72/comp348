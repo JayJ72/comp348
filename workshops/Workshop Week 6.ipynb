{
 "cells": [
  {
   "cell_type": "markdown",
   "metadata": {},
   "source": [
    "# Part of Speech Tagging\n",
    "\n",
    "For the following exercises, use the training portion of the Brown corpus as defined by the following code:"
   ]
  },
  {
   "cell_type": "code",
   "execution_count": 2,
   "metadata": {
    "collapsed": false
   },
   "outputs": [
    {
     "name": "stdout",
     "output_type": "stream",
     "text": [
      "[nltk_data] Downloading package brown to /root/nltk_data...\n",
      "[nltk_data]   Unzipping corpora/brown.zip.\n"
     ]
    }
   ],
   "source": [
    "import nltk\n",
    "nltk.download(\"brown\")\n",
    "from nltk.corpus import brown\n",
    "import random\n",
    "random.seed(0)\n",
    "tagged_sents = list(brown.tagged_sents())\n",
    "random.shuffle(tagged_sents)\n",
    "train = tagged_sents[:10000]\n",
    "test = tagged_sents[10000:10200]"
   ]
  },
  {
   "cell_type": "markdown",
   "metadata": {},
   "source": [
    "Remember how the training corpus is structured in this corpus: it is a list of training sentences, and each sentence is a list of tagged words. For example, the first sentence of the training set is:"
   ]
  },
  {
   "cell_type": "code",
   "execution_count": 3,
   "metadata": {
    "collapsed": false
   },
   "outputs": [
    {
     "data": {
      "text/plain": [
       "[('Stars', 'NNS-HL'), ('for', 'IN-HL'), ('marriage', 'NN-HL')]"
      ]
     },
     "execution_count": 3,
     "metadata": {},
     "output_type": "execute_result"
    }
   ],
   "source": [
    "train[0]"
   ]
  },
  {
   "cell_type": "markdown",
   "metadata": {},
   "source": [
    "### Exercise: Find all labels and all vocabulary\n",
    "\n",
    "Using the training data (not the test data!), find the following information:\n",
    "\n",
    "1. What is the vocabulary size?\n",
    "2. What is the number of distinct lavels?\n",
    "3. What is the total number of words?\n",
    "4. What is the total number of labels?\n"
   ]
  },
  {
   "cell_type": "code",
   "execution_count": null,
   "metadata": {
    "collapsed": true
   },
   "outputs": [],
   "source": []
  },
  {
   "cell_type": "markdown",
   "metadata": {},
   "source": [
    "### Exercise: Find all word bigrams and all label bigrams\n",
    "\n",
    "Below we are going to find out statistics about what is the most likely word following another word, what is the most likely word or label beginning a sentence, and what is the most likely word or label ending a sentence. A common approach to do statistics on the first and last word or token is to add a new word or token such as `$` at the beginning and the end of each sentence. For this exercise, generate the word and label bigrams after padding with the `$` symbol. For example, if the corpus is the pair of sentences:\n",
    "\n",
    "```\n",
    "[[('my','PRP$'),('sentence','NN')],[('my','PRP$'),('second','OD'),('sentence','NN')]]\n",
    "```\n",
    "\n",
    "Then the word bigrams are:\n",
    "\n",
    "```\n",
    "[('$','my'),('my','sentence'),('sentence','$'),('$','my'),('my','second'),('second','sentence'),('sentence','$')]\n",
    "```\n",
    "\n",
    "\n",
    "And the label bigrams are:\n",
    "\n",
    "```\n",
    "[('$','PRP$'),('PRP$','NN'),('NN','$'),('$','PRP$),('PRP$','OD'),('OD','NN'),('NN','$')]\n",
    "```"
   ]
  },
  {
   "cell_type": "code",
   "execution_count": null,
   "metadata": {
    "collapsed": true
   },
   "outputs": [],
   "source": []
  },
  {
   "cell_type": "markdown",
   "metadata": {},
   "source": [
    "### Exercise: Most common words and labels beginning and ending a sentence\n",
    "\n",
    "1. What are the most common words beginning a sentence? \n",
    "2. What are the most common words ending a sentence?\n",
    "3. What are the most common PoS labels beginning a sentence?\n",
    "4. What are the most common PoS labels ending a sentence?"
   ]
  },
  {
   "cell_type": "code",
   "execution_count": null,
   "metadata": {
    "collapsed": true
   },
   "outputs": [],
   "source": []
  },
  {
   "cell_type": "markdown",
   "metadata": {},
   "source": [
    "### Exercise: Most common PoS after another PoS\n",
    "\n",
    "Write a function `most_common_label(label, n)` that, when given a PoS label and a number n, it prints the n most common labels that follow the given label. In your implementation, first create an NLTK `ConditionalFreqDist`, and then implement the function so that it uses your created `ConditionalFreqDist`."
   ]
  },
  {
   "cell_type": "code",
   "execution_count": null,
   "metadata": {
    "collapsed": true
   },
   "outputs": [],
   "source": []
  },
  {
   "cell_type": "markdown",
   "metadata": {},
   "source": [
    "### Optional exercise: Generate random sentences\n",
    "\n",
    "The following function generates the most likely sentence given a seed word. You can see that the generated sentence easily enters an infinite loop and it never ends."
   ]
  },
  {
   "cell_type": "code",
   "execution_count": 21,
   "metadata": {
    "collapsed": true
   },
   "outputs": [],
   "source": [
    "cfd_words = nltk.ConditionalFreqDist(XX)\n",
    "def generate_text(seed, n):\n",
    "    prev = seed\n",
    "    for i in range(n):\n",
    "        if prev == '$':\n",
    "            return\n",
    "        print(prev)\n",
    "        prev = cfd_words[prev].max()"
   ]
  },
  {
   "cell_type": "code",
   "execution_count": 22,
   "metadata": {
    "collapsed": false
   },
   "outputs": [
    {
     "name": "stdout",
     "output_type": "stream",
     "text": [
      "the\n",
      "same\n",
      "time\n",
      ",\n",
      "and\n",
      "the\n",
      "same\n",
      "time\n",
      ",\n",
      "and\n",
      "the\n",
      "same\n",
      "time\n",
      ",\n",
      "and\n",
      "the\n",
      "same\n",
      "time\n",
      ",\n",
      "and\n"
     ]
    }
   ],
   "source": [
    "generate_text('the', 20)"
   ]
  },
  {
   "cell_type": "markdown",
   "metadata": {},
   "source": [
    "Can you implement an improved version that is stochastic? That is, instead of printing the most common next word, each iteration prints a word randomly such that words that follow the previous word more frequently will be printed more frequently. An example of two consecutive calls to the function could return this:\n",
    "```python\n",
    "In []: generate_text_stochastic('the',20)\n",
    "the\n",
    "women\n",
    "struggling\n",
    "to\n",
    "twist\n",
    "my\n",
    "life\n",
    "span\n",
    "everything\n",
    "she\n",
    "couldn't\n",
    "be\n",
    "noble\n",
    "singular\n",
    ".\n",
    "In []: generate_text_stochastic('the',20)\n",
    "the\n",
    "uncomfortably\n",
    "close\n",
    ".\n",
    "```"
   ]
  },
  {
   "cell_type": "code",
   "execution_count": 41,
   "metadata": {
    "collapsed": false
   },
   "outputs": [],
   "source": [
    "def generate_text_stochastic(seed, n):\n",
    "  # Write your code here"
   ]
  },
  {
   "cell_type": "code",
   "execution_count": 45,
   "metadata": {
    "collapsed": false
   },
   "outputs": [
    {
     "name": "stdout",
     "output_type": "stream",
     "text": [
      "The\n",
      "two\n",
      "parallel\n",
      "to\n",
      "perpetual\n",
      "easement\n",
      "to\n",
      "maintain\n",
      "or\n",
      "any\n",
      "piece\n",
      "of\n",
      "mankind's\n",
      "thrusts\n",
      "to\n",
      "Greville\n",
      "in\n",
      "themselves\n",
      ",\n",
      "picking\n"
     ]
    }
   ],
   "source": [
    "generate_text_stochastic('The',20)"
   ]
  },
  {
   "cell_type": "markdown",
   "metadata": {},
   "source": [
    "# Embedding Part of Speech Tagging in a Web Application\n",
    "\n",
    "The lecture notes and notebooks show how you can use NLTK to implement a part of speech tagger. In this exercise you will incorporate this information in a web application.\n",
    "\n",
    "The following file is a simple web application that uses [Python's bottle framework](http://bottlepy.org/docs/dev/index.html) and NLTK to present a Web form where a person can input text. When the form is submitted, the application annotates the text with its parts of speech and shows the result to the user.\n",
    "\n",
    "* [pos.py](pos.py)"
   ]
  },
  {
   "cell_type": "markdown",
   "metadata": {},
   "source": [
    "### Exercise: Try out the web application\n",
    "\n",
    "Download the web application and run it on your computer. The terminal console will indicate a URL. Open the URL on a browser and try out the application."
   ]
  },
  {
   "cell_type": "markdown",
   "metadata": {},
   "source": [
    "### Exercise: Add your own PoS tagger\n",
    "\n",
    "Replace NLTK's tagger in the web application with an implementation of your own tagger. Remember that you only need to train the tagger once, and then you can use the trained model each time the user sends text with the form."
   ]
  }
 ],
 "metadata": {
  "kernelspec": {
   "display_name": "Python 3",
   "language": "python",
   "name": "python3"
  },
  "language_info": {
   "codemirror_mode": {
    "name": "ipython",
    "version": 3
   },
   "file_extension": ".py",
   "mimetype": "text/x-python",
   "name": "python",
   "nbconvert_exporter": "python",
   "pygments_lexer": "ipython3",
   "version": "3.6.0"
  }
 },
 "nbformat": 4,
 "nbformat_minor": 0
}
